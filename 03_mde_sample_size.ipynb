{
 "cells": [
  {
   "cell_type": "code",
   "execution_count": 1,
   "metadata": {},
   "outputs": [],
   "source": [
    "import pandas as pd\n",
    "from scipy.stats import norm\n",
    "import numpy as np\n",
    "from datetime import datetime, timedelta\n"
   ]
  },
  {
   "cell_type": "markdown",
   "metadata": {},
   "source": [
    "**Задание 3**\n",
    "\n",
    "Сколько пользователей нужно взять в экспериментальную группу, чтобы отлавливать эффект\n",
    "в 20 копеек? Известно, что для эффекта в 10 копеек нужно 200000 пользователей. Вероятности ошибок\n",
    "и стандартные отклонения фиксированы."
   ]
  },
  {
   "cell_type": "markdown",
   "metadata": {},
   "source": [
    "***Решение***\n",
    "\n",
    "Если вероятность ошибок (альфа и бета) и стандартное отклонение фиксированы, то объем выборки для выявления эффекта прямо пропорционален квадрату величины эффекта. Это связано с тем, что дисперсия уменьшается пропорционально 1/n, а требуемая точность зависит от размера эффекта\n"
   ]
  },
  {
   "cell_type": "code",
   "execution_count": 2,
   "metadata": {},
   "outputs": [],
   "source": [
    "n1 = 200000\n",
    "d2 = 0.2\n",
    "d1 = 0.1"
   ]
  },
  {
   "cell_type": "markdown",
   "metadata": {},
   "source": [
    "n1/n2 = (d2/d1)**2\n",
    "\n",
    "n2 = n1*d1**2/d2**2"
   ]
  },
  {
   "cell_type": "code",
   "execution_count": 3,
   "metadata": {},
   "outputs": [
    {
     "data": {
      "text/plain": [
       "50000.0"
      ]
     },
     "execution_count": 3,
     "metadata": {},
     "output_type": "execute_result"
    }
   ],
   "source": [
    "n2 = n1*d1**2/d2**2\n",
    "n2"
   ]
  },
  {
   "cell_type": "markdown",
   "metadata": {},
   "source": [
    "Ответ: Для отлавливания эффекта в 20 копеек требуется 50,000 пользователей."
   ]
  },
  {
   "cell_type": "markdown",
   "metadata": {},
   "source": [
    "**Задание 4**\n",
    "\n",
    "\n",
    "Мы хотим проверить гипотезу об увеличении средней выручки с покупателя. По историческим данным мы вычислили, что оценка среднего значения метрики равна 1230 рублей, а оценка стандартного отклонения равна 200 рублей. Размер групп в эксперименте фиксирован и равен 1000. Эффекты какого размера можем отловить на уровне значимости 0.05 и допустимой вероятности ошибки II рода 0.1 ?"
   ]
  },
  {
   "cell_type": "markdown",
   "metadata": {},
   "source": [
    "Решение"
   ]
  },
  {
   "cell_type": "code",
   "execution_count": 4,
   "metadata": {},
   "outputs": [
    {
     "data": {
      "text/plain": [
       "28.992996480447648"
      ]
     },
     "execution_count": 4,
     "metadata": {},
     "output_type": "execute_result"
    }
   ],
   "source": [
    "\n",
    "# Данные\n",
    "mu = 1230  # среднее значение\n",
    "sigma = 200  # стандартное отклонение\n",
    "n = 500 # размер группы\n",
    "alpha = 0.05  # уровень значимости\n",
    "beta = 0.1  # допустимая вероятность ошибки II рода\n",
    "\n",
    "# Критические значения для Z-распределения\n",
    "z_alpha = norm.ppf(1 - alpha / 2)  # для двустороннего теста\n",
    "z_beta = norm.ppf(1 - beta)\n",
    "\n",
    "# Минимально обнаруживаемый эффект (MDE)\n",
    "mde = (z_alpha + z_beta) * (sigma / np.sqrt(n))\n",
    "\n",
    "mde"
   ]
  },
  {
   "cell_type": "markdown",
   "metadata": {},
   "source": [
    "n = 500, т.к. группы 2, в сумме 1000, значит каждая 500"
   ]
  },
  {
   "cell_type": "code",
   "execution_count": 5,
   "metadata": {},
   "outputs": [
    {
     "data": {
      "text/plain": [
       "29.035619571476744"
      ]
     },
     "execution_count": 5,
     "metadata": {},
     "output_type": "execute_result"
    }
   ],
   "source": [
    "from scipy.stats import t\n",
    "\n",
    "# Используем t-распределение вместо нормального\n",
    "df = n - 1  # степени свободы\n",
    "\n",
    "# Критические значения для t-распределения\n",
    "t_alpha = t.ppf(1 - alpha / 2, df)  # для двустороннего теста\n",
    "t_beta = norm.ppf(1 - beta)  # для мощности все еще используем нормальное распределение\n",
    "\n",
    "# Перерасчет MDE для t-теста\n",
    "mde_t_test = (t_alpha + t_beta) * (sigma / np.sqrt(n))\n",
    "\n",
    "mde_t_test"
   ]
  },
  {
   "cell_type": "markdown",
   "metadata": {},
   "source": [
    "Ответ: 30 руб "
   ]
  },
  {
   "cell_type": "markdown",
   "metadata": {},
   "source": [
    "---------------"
   ]
  },
  {
   "cell_type": "markdown",
   "metadata": {},
   "source": [
    "## Семинар"
   ]
  },
  {
   "cell_type": "markdown",
   "metadata": {},
   "source": [
    "**Способы вычисления смещённой и несмещённой оценки дисперсии**"
   ]
  },
  {
   "cell_type": "code",
   "execution_count": 6,
   "metadata": {},
   "outputs": [],
   "source": [
    "values = np.arange(5)\n",
    "\n",
    "# смещённые оценки дисперсии равны 2.0\n",
    "var_1 = ((values - values.mean()) ** 2).mean()\n",
    "var_2 = values.var()\n",
    "var_3 = pd.Series(values).var(ddof=0)\n",
    "\n",
    "# несмещённые оценки дисперсии равны 2.5\n",
    "var_1 = ((values - values.mean()) ** 2).sum() / (len(values) - 1)\n",
    "var_2 = values.var(ddof=1)\n",
    "var_3 = pd.Series(values).var()"
   ]
  },
  {
   "cell_type": "markdown",
   "metadata": {},
   "source": [
    "**Задача 1. Оценить необходимый размер групп**\n",
    "\n",
    "Допустим, мы хотим провести эксперимент, в который попадают клиенты, совершившие покупку во время эксперимента.\n",
    "\n",
    "Метрика — средняя выручка с пользователя за время эксперимента;\n",
    "\n",
    "Продолжительность — одна неделя;\n",
    "\n",
    "Уровень значимости — 0.05;\n",
    "\n",
    "Допустимая вероятность ошибки II рода — 0.1;\n",
    "\n",
    "Ожидаемый эффект — 20 рублей.\n",
    "\n",
    "Оцените необходимый размер групп по данным о покупках за неделю с 21 по 28 февраля. Обратим внимание, что в выборку попадают события из полуинтервала `[datetime(2022, 2, 21), datetime(2022, 2, 28))`"
   ]
  },
  {
   "cell_type": "code",
   "execution_count": 7,
   "metadata": {},
   "outputs": [
    {
     "data": {
      "text/html": [
       "<div>\n",
       "<style scoped>\n",
       "    .dataframe tbody tr th:only-of-type {\n",
       "        vertical-align: middle;\n",
       "    }\n",
       "\n",
       "    .dataframe tbody tr th {\n",
       "        vertical-align: top;\n",
       "    }\n",
       "\n",
       "    .dataframe thead th {\n",
       "        text-align: right;\n",
       "    }\n",
       "</style>\n",
       "<table border=\"1\" class=\"dataframe\">\n",
       "  <thead>\n",
       "    <tr style=\"text-align: right;\">\n",
       "      <th></th>\n",
       "      <th>sale_id</th>\n",
       "      <th>date</th>\n",
       "      <th>count_pizza</th>\n",
       "      <th>count_drink</th>\n",
       "      <th>price</th>\n",
       "      <th>user_id</th>\n",
       "    </tr>\n",
       "  </thead>\n",
       "  <tbody>\n",
       "    <tr>\n",
       "      <th>203844</th>\n",
       "      <td>1203845</td>\n",
       "      <td>2022-04-01 11:59:43</td>\n",
       "      <td>1</td>\n",
       "      <td>0</td>\n",
       "      <td>600</td>\n",
       "      <td>7cdcc7</td>\n",
       "    </tr>\n",
       "    <tr>\n",
       "      <th>203845</th>\n",
       "      <td>1203846</td>\n",
       "      <td>2022-04-01 11:59:45</td>\n",
       "      <td>1</td>\n",
       "      <td>1</td>\n",
       "      <td>630</td>\n",
       "      <td>47b825</td>\n",
       "    </tr>\n",
       "    <tr>\n",
       "      <th>203846</th>\n",
       "      <td>1203847</td>\n",
       "      <td>2022-04-01 11:59:51</td>\n",
       "      <td>1</td>\n",
       "      <td>0</td>\n",
       "      <td>780</td>\n",
       "      <td>cdaabb</td>\n",
       "    </tr>\n",
       "  </tbody>\n",
       "</table>\n",
       "</div>"
      ],
      "text/plain": [
       "        sale_id                 date  count_pizza  count_drink  price user_id\n",
       "203844  1203845  2022-04-01 11:59:43            1            0    600  7cdcc7\n",
       "203845  1203846  2022-04-01 11:59:45            1            1    630  47b825\n",
       "203846  1203847  2022-04-01 11:59:51            1            0    780  cdaabb"
      ]
     },
     "execution_count": 7,
     "metadata": {},
     "output_type": "execute_result"
    }
   ],
   "source": [
    "df_sales = pd.read_csv('./2022-04-01T12_df_sales.csv')\n",
    "df_sales.tail(3)"
   ]
  },
  {
   "cell_type": "code",
   "execution_count": 8,
   "metadata": {},
   "outputs": [
    {
     "data": {
      "text/html": [
       "<div>\n",
       "<style scoped>\n",
       "    .dataframe tbody tr th:only-of-type {\n",
       "        vertical-align: middle;\n",
       "    }\n",
       "\n",
       "    .dataframe tbody tr th {\n",
       "        vertical-align: top;\n",
       "    }\n",
       "\n",
       "    .dataframe thead th {\n",
       "        text-align: right;\n",
       "    }\n",
       "</style>\n",
       "<table border=\"1\" class=\"dataframe\">\n",
       "  <thead>\n",
       "    <tr style=\"text-align: right;\">\n",
       "      <th></th>\n",
       "      <th>sale_id</th>\n",
       "      <th>date</th>\n",
       "      <th>count_pizza</th>\n",
       "      <th>count_drink</th>\n",
       "      <th>price</th>\n",
       "      <th>user_id</th>\n",
       "    </tr>\n",
       "  </thead>\n",
       "  <tbody>\n",
       "    <tr>\n",
       "      <th>88551</th>\n",
       "      <td>1088552</td>\n",
       "      <td>2022-02-27 21:59:36</td>\n",
       "      <td>2</td>\n",
       "      <td>0</td>\n",
       "      <td>1500</td>\n",
       "      <td>3d5e65</td>\n",
       "    </tr>\n",
       "    <tr>\n",
       "      <th>88552</th>\n",
       "      <td>1088553</td>\n",
       "      <td>2022-02-27 21:59:41</td>\n",
       "      <td>1</td>\n",
       "      <td>0</td>\n",
       "      <td>660</td>\n",
       "      <td>63bff8</td>\n",
       "    </tr>\n",
       "    <tr>\n",
       "      <th>88553</th>\n",
       "      <td>1088554</td>\n",
       "      <td>2022-02-27 21:59:54</td>\n",
       "      <td>4</td>\n",
       "      <td>0</td>\n",
       "      <td>3060</td>\n",
       "      <td>601282</td>\n",
       "    </tr>\n",
       "  </tbody>\n",
       "</table>\n",
       "</div>"
      ],
      "text/plain": [
       "       sale_id                date  count_pizza  count_drink  price user_id\n",
       "88551  1088552 2022-02-27 21:59:36            2            0   1500  3d5e65\n",
       "88552  1088553 2022-02-27 21:59:41            1            0    660  63bff8\n",
       "88553  1088554 2022-02-27 21:59:54            4            0   3060  601282"
      ]
     },
     "execution_count": 8,
     "metadata": {},
     "output_type": "execute_result"
    }
   ],
   "source": [
    "df_sales['date'] = pd.to_datetime(df_sales['date'])\n",
    "df_sales_per = df_sales[(df_sales['date'] >= datetime(2022, 2, 21))\\\n",
    "                        &(df_sales['date'] < datetime(2022, 2, 28))]\\\n",
    "                            .copy(deep=True)\n",
    "df_sales_per.tail(3)"
   ]
  },
  {
   "cell_type": "code",
   "execution_count": 9,
   "metadata": {},
   "outputs": [
    {
     "data": {
      "text/html": [
       "<div>\n",
       "<style scoped>\n",
       "    .dataframe tbody tr th:only-of-type {\n",
       "        vertical-align: middle;\n",
       "    }\n",
       "\n",
       "    .dataframe tbody tr th {\n",
       "        vertical-align: top;\n",
       "    }\n",
       "\n",
       "    .dataframe thead th {\n",
       "        text-align: right;\n",
       "    }\n",
       "</style>\n",
       "<table border=\"1\" class=\"dataframe\">\n",
       "  <thead>\n",
       "    <tr style=\"text-align: right;\">\n",
       "      <th></th>\n",
       "      <th>user_id</th>\n",
       "      <th>price</th>\n",
       "    </tr>\n",
       "  </thead>\n",
       "  <tbody>\n",
       "    <tr>\n",
       "      <th>24835</th>\n",
       "      <td>ffec21</td>\n",
       "      <td>2130</td>\n",
       "    </tr>\n",
       "    <tr>\n",
       "      <th>24836</th>\n",
       "      <td>fff223</td>\n",
       "      <td>540</td>\n",
       "    </tr>\n",
       "    <tr>\n",
       "      <th>24837</th>\n",
       "      <td>fff4db</td>\n",
       "      <td>840</td>\n",
       "    </tr>\n",
       "    <tr>\n",
       "      <th>24838</th>\n",
       "      <td>fff718</td>\n",
       "      <td>780</td>\n",
       "    </tr>\n",
       "    <tr>\n",
       "      <th>24839</th>\n",
       "      <td>fff7ff</td>\n",
       "      <td>780</td>\n",
       "    </tr>\n",
       "  </tbody>\n",
       "</table>\n",
       "</div>"
      ],
      "text/plain": [
       "      user_id  price\n",
       "24835  ffec21   2130\n",
       "24836  fff223    540\n",
       "24837  fff4db    840\n",
       "24838  fff718    780\n",
       "24839  fff7ff    780"
      ]
     },
     "execution_count": 9,
     "metadata": {},
     "output_type": "execute_result"
    }
   ],
   "source": [
    "df_user_revenue = df_sales_per.groupby('user_id')['price'].sum().reset_index()\n",
    "df_user_revenue.tail()"
   ]
  },
  {
   "cell_type": "code",
   "execution_count": 10,
   "metadata": {},
   "outputs": [],
   "source": [
    "def get_sample_size_abs(epsilon, std, alpha=0.05, beta=0.1):\n",
    "    t_alpha = norm.ppf(1 - alpha / 2, loc=0, scale=1)\n",
    "    t_beta = norm.ppf(1 - beta, loc=0, scale=1)\n",
    "    z_scores_sum_squared = (t_alpha + t_beta) ** 2\n",
    "    sample_size = int(\n",
    "        np.ceil(\n",
    "            z_scores_sum_squared * (2 * std ** 2) / (epsilon ** 2)\n",
    "        )\n",
    "    )\n",
    "    return sample_size\n",
    "\n",
    "def get_sample_size_arb(mu, std, eff=1.01, alpha=0.05, beta=0.1):\n",
    "    epsilon = (eff - 1) * mu\n",
    "\n",
    "    return get_sample_size_abs(epsilon, std=std, alpha=alpha, beta=beta)"
   ]
  },
  {
   "cell_type": "code",
   "execution_count": 11,
   "metadata": {},
   "outputs": [
    {
     "name": "stdout",
     "output_type": "stream",
     "text": [
      "sample_size rounded = 34570\n",
      "\n"
     ]
    }
   ],
   "source": [
    "mu = df_user_revenue['price'].mean()\n",
    "std = df_user_revenue['price'].std()\n",
    "eff = 1+(20/mu)\n",
    "alpha = 0.05\n",
    "beta = 0.1\n",
    "\n",
    "\n",
    "sample_size = get_sample_size_arb(mu, std, eff, alpha=0.05, beta=0.1)\n",
    "print(f'sample_size rounded = {round(sample_size, -1)}\\n')"
   ]
  },
  {
   "cell_type": "code",
   "execution_count": 12,
   "metadata": {},
   "outputs": [
    {
     "name": "stdout",
     "output_type": "stream",
     "text": [
      "sample_size rounded = 34570\n",
      "\n"
     ]
    }
   ],
   "source": [
    "sample_size = get_sample_size_abs(20, std, alpha=0.05, beta=0.1)\n",
    "print(f'sample_size rounded = {round(sample_size, -1)}\\n')"
   ]
  },
  {
   "cell_type": "markdown",
   "metadata": {},
   "source": [
    "Ответ: 34570"
   ]
  },
  {
   "cell_type": "markdown",
   "metadata": {},
   "source": [
    "**Задача 2. MDE**\n",
    "  \n",
    "\n",
    "В прошлом задании получилось, что необходимый размер групп больше имеющихся данных за одну неделю. Какой минимальный эффект мы можем отловить с теми же вероятностями ошибок на данных\n",
    "с 21 по 28 февраля?\n",
    "\n",
    "Ответ округлите до целого значения."
   ]
  },
  {
   "cell_type": "code",
   "execution_count": 13,
   "metadata": {},
   "outputs": [],
   "source": [
    "def get_minimal_determinable_effect(std, sample_size, alpha=0.05, beta=0.2):\n",
    "    t_alpha = norm.ppf(1 - alpha / 2, loc=0, scale=1)\n",
    "    t_beta = norm.ppf(1 - beta, loc=0, scale=1)\n",
    "    disp_sum_sqrt = (2 * (std ** 2)) ** 0.5\n",
    "    mde = (t_alpha + t_beta) * disp_sum_sqrt / np.sqrt(sample_size)\n",
    "    return mde"
   ]
  },
  {
   "cell_type": "code",
   "execution_count": 14,
   "metadata": {},
   "outputs": [
    {
     "name": "stdout",
     "output_type": "stream",
     "text": [
      "mde = 33.36719696756425\n",
      "\n"
     ]
    }
   ],
   "source": [
    "mde = get_minimal_determinable_effect(std, df_user_revenue['user_id'].count()/2, alpha=0.05, beta=0.1)\n",
    "\n",
    "print(f'mde = {mde}\\n')"
   ]
  },
  {
   "cell_type": "markdown",
   "metadata": {},
   "source": [
    "**Задача 3. Функция оценки размера выборки**\n",
    "\n",
    "Реализуйте функцию estimate_sample_size.\n",
    "\n",
    "Обратите внимание:\n",
    "\n",
    "1. Размер эффекта задаётся в процентах;\n",
    "\n",
    "2. Для вычисления стандартного отклонения используйте функцию np.std с параметрами по умолчанию.\n",
    "\n",
    "3. Не используйте агрегацию внутри функции.\n",
    "\n",
    "4. Стандартное отклонение и значение среднего необходимо посчитать по полученному столбцу с метрикой.\n",
    "\n"
   ]
  },
  {
   "cell_type": "markdown",
   "metadata": {},
   "source": [
    "***Решение***"
   ]
  },
  {
   "cell_type": "code",
   "execution_count": 15,
   "metadata": {},
   "outputs": [],
   "source": [
    "import numpy as np\n",
    "import pandas as pd\n",
    "from scipy import stats\n",
    "\n",
    "\n",
    "def estimate_sample_size(metrics, effect, alpha, beta):\n",
    "    \"\"\"Оцениваем необходимый размер выборки для проверки гипотезы о равенстве средних.\n",
    "    \n",
    "    Для метрик, у которых для одного пользователя одно значение просто вычислите\n",
    "    размер групп по формуле.\n",
    "    Для метрик, у которых для одного пользователя несколько значений (например,\n",
    "    response_time), вычислите необходимый объём данных и разделите его на среднее\n",
    "    количество значений на одного пользователsя.\n",
    "    Пример, если в таблице metrics 1000 наблюдений и 100 уникальных пользователей,\n",
    "    и для эксперимента нужно 302 наблюдения, то размер групп будет 31, тк в среднем на\n",
    "    одного пользователя 10 наблюдений, то получится порядка 310 наблюдений в группе.\n",
    "\n",
    "    :param metrics (pd.DataFrame): таблица со значениями метрик,\n",
    "        содержит столбцы ['user_id', 'metric'].\n",
    "    :param effect (float): размер эффекта в процентах.\n",
    "        Пример, effect=3 означает, что ожидаем увеличение среднего на 3%.\n",
    "    :param alpha (float): уровень значимости.\n",
    "    :param beta (float): допустимая вероятность ошибки II рода.\n",
    "    :return (int): минимально необходимый размер групп (количество пользователей)\n",
    "    \"\"\"\n",
    "    nunique_users = metrics['user_id'].nunique()\n",
    "    cnt_val = len(metrics)\n",
    "\n",
    "    mu = metrics['metric'].mean()\n",
    "    std = np.std(metrics['metric'])\n",
    "\n",
    "    effect = effect/100 * mu\n",
    "\n",
    "    t_alpha = norm.ppf(1-alpha/2)\n",
    "    t_beta = norm.ppf(1-beta)\n",
    "\n",
    "    z_scores_sum_squared = (t_alpha + t_beta)**2\n",
    "    sample_size = int(np.ceil(z_scores_sum_squared*(2*std**2)/(effect**2)))\n",
    "\n",
    "    if nunique_users==cnt_val:\n",
    "        sample_size_final = sample_size\n",
    "        return sample_size_final\n",
    "    else:\n",
    "        avg_cnt_per_user = metrics.groupby(['user_id']).agg(cnt = ('metric', 'count')).reset_index()['cnt'].mean()\n",
    "        sample_size_final = int(np.ceil(sample_size/avg_cnt_per_user))\n",
    "        return sample_size_final"
   ]
  },
  {
   "cell_type": "markdown",
   "metadata": {},
   "source": [
    "***Пример***"
   ]
  },
  {
   "cell_type": "code",
   "execution_count": 16,
   "metadata": {},
   "outputs": [
    {
     "name": "stdout",
     "output_type": "stream",
     "text": [
      "1966\n"
     ]
    }
   ],
   "source": [
    "effect, alpha, beta = 3, 0.05, 0.1\n",
    "\n",
    "metrics = pd.DataFrame({\n",
    "    'user_id': np.arange(100),\n",
    "    'metric': np.linspace(500, 1490, 100)\n",
    "})\n",
    "\n",
    "sample_size = estimate_sample_size(metrics, effect, alpha, beta)\n",
    "print(sample_size)"
   ]
  },
  {
   "cell_type": "code",
   "execution_count": 17,
   "metadata": {},
   "outputs": [
    {
     "name": "stdout",
     "output_type": "stream",
     "text": [
      "590\n"
     ]
    }
   ],
   "source": [
    "metrics = pd.DataFrame({\n",
    "    'user_id': np.arange(100) % 30,\n",
    "    'metric': np.linspace(500, 1490, 100)\n",
    "})\n",
    "effect, alpha, beta = 3, 0.05, 0.1\n",
    "sample_size = estimate_sample_size(metrics, effect, alpha, beta)\n",
    "print(sample_size)"
   ]
  }
 ],
 "metadata": {
  "kernelspec": {
   "display_name": "eda",
   "language": "python",
   "name": "python3"
  },
  "language_info": {
   "codemirror_mode": {
    "name": "ipython",
    "version": 3
   },
   "file_extension": ".py",
   "mimetype": "text/x-python",
   "name": "python",
   "nbconvert_exporter": "python",
   "pygments_lexer": "ipython3",
   "version": "3.9.19"
  }
 },
 "nbformat": 4,
 "nbformat_minor": 2
}
