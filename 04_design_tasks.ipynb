{
 "cells": [
  {
   "cell_type": "code",
   "execution_count": 1,
   "metadata": {},
   "outputs": [],
   "source": [
    "import pandas as pd\n",
    "import numpy as np\n",
    "import datetime\n",
    "import scipy.stats as stats\n",
    "from scipy.stats import norm, ttest_ind\n",
    "from tqdm import tqdm"
   ]
  },
  {
   "cell_type": "markdown",
   "metadata": {},
   "source": [
    "**Задача 4. Численный эксперимент**\n",
    "  \n",
    "\n",
    "Мы рассмотрели несколько вариантов добавления эффекта. Есть ли смысл думать о способе добавления эффекта при оценке вероятности ошибки II рода или все способы дают одинаковый результат? Результаты могут быть разными. Чтобы в этом убедиться, проведём численный эксперимент.\n",
    "\n",
    "Допустим, в наш А/В-тест попадают все пользователи, совершавшие покупки до 28 марта.\n",
    "\n",
    " \n",
    "Целевая метрика — средняя выручка с клиента за время эксперимента. Целевую метрику считаем на неделе с 21 по 28 марта. Уровень значимости — 0.05. Критерий — тест Стьюдента. Размер групп — 1000. Ожидаемый эффект — средняя выручка увеличится на 10%.\n",
    "\n",
    "Нужно оценить вероятности ошибок II рода для трёх вариантов добавления эффекта:\n",
    "\n",
    "1. Добавление константы ко всем значениям;\n",
    "\n",
    "2. Умножение на константу всех значений;\n",
    "\n",
    "3. Добавление константы к 2.5% значений.\n",
    "\n",
    "Для решения используйте данные из файла `2022-04-01T12_df_sales.csv`."
   ]
  },
  {
   "cell_type": "code",
   "execution_count": 2,
   "metadata": {},
   "outputs": [
    {
     "data": {
      "text/html": [
       "<div>\n",
       "<style scoped>\n",
       "    .dataframe tbody tr th:only-of-type {\n",
       "        vertical-align: middle;\n",
       "    }\n",
       "\n",
       "    .dataframe tbody tr th {\n",
       "        vertical-align: top;\n",
       "    }\n",
       "\n",
       "    .dataframe thead th {\n",
       "        text-align: right;\n",
       "    }\n",
       "</style>\n",
       "<table border=\"1\" class=\"dataframe\">\n",
       "  <thead>\n",
       "    <tr style=\"text-align: right;\">\n",
       "      <th></th>\n",
       "      <th>sale_id</th>\n",
       "      <th>date</th>\n",
       "      <th>count_pizza</th>\n",
       "      <th>count_drink</th>\n",
       "      <th>price</th>\n",
       "      <th>user_id</th>\n",
       "    </tr>\n",
       "  </thead>\n",
       "  <tbody>\n",
       "    <tr>\n",
       "      <th>203844</th>\n",
       "      <td>1203845</td>\n",
       "      <td>2022-04-01 11:59:43</td>\n",
       "      <td>1</td>\n",
       "      <td>0</td>\n",
       "      <td>600</td>\n",
       "      <td>7cdcc7</td>\n",
       "    </tr>\n",
       "    <tr>\n",
       "      <th>203845</th>\n",
       "      <td>1203846</td>\n",
       "      <td>2022-04-01 11:59:45</td>\n",
       "      <td>1</td>\n",
       "      <td>1</td>\n",
       "      <td>630</td>\n",
       "      <td>47b825</td>\n",
       "    </tr>\n",
       "    <tr>\n",
       "      <th>203846</th>\n",
       "      <td>1203847</td>\n",
       "      <td>2022-04-01 11:59:51</td>\n",
       "      <td>1</td>\n",
       "      <td>0</td>\n",
       "      <td>780</td>\n",
       "      <td>cdaabb</td>\n",
       "    </tr>\n",
       "  </tbody>\n",
       "</table>\n",
       "</div>"
      ],
      "text/plain": [
       "        sale_id                 date  count_pizza  count_drink  price user_id\n",
       "203844  1203845  2022-04-01 11:59:43            1            0    600  7cdcc7\n",
       "203845  1203846  2022-04-01 11:59:45            1            1    630  47b825\n",
       "203846  1203847  2022-04-01 11:59:51            1            0    780  cdaabb"
      ]
     },
     "execution_count": 2,
     "metadata": {},
     "output_type": "execute_result"
    }
   ],
   "source": [
    "df_sales_raw = pd.read_csv('./2022-04-01T12_df_sales.csv')\n",
    "df_sales_raw.tail(3)"
   ]
  },
  {
   "cell_type": "code",
   "execution_count": 3,
   "metadata": {},
   "outputs": [
    {
     "name": "stdout",
     "output_type": "stream",
     "text": [
      "<class 'pandas.core.frame.DataFrame'>\n",
      "RangeIndex: 203847 entries, 0 to 203846\n",
      "Data columns (total 6 columns):\n",
      " #   Column       Non-Null Count   Dtype \n",
      "---  ------       --------------   ----- \n",
      " 0   sale_id      203847 non-null  int64 \n",
      " 1   date         203847 non-null  object\n",
      " 2   count_pizza  203847 non-null  int64 \n",
      " 3   count_drink  203847 non-null  int64 \n",
      " 4   price        203847 non-null  int64 \n",
      " 5   user_id      203847 non-null  object\n",
      "dtypes: int64(4), object(2)\n",
      "memory usage: 9.3+ MB\n"
     ]
    }
   ],
   "source": [
    "df_sales_raw.info()"
   ]
  },
  {
   "cell_type": "code",
   "execution_count": 4,
   "metadata": {},
   "outputs": [
    {
     "data": {
      "text/plain": [
       "(25657, 2)"
      ]
     },
     "execution_count": 4,
     "metadata": {},
     "output_type": "execute_result"
    }
   ],
   "source": [
    "df_sales_raw['date'] = pd.to_datetime(df_sales_raw['date'])\n",
    "\n",
    "df_sales = df_sales_raw[(df_sales_raw['date']>=datetime.datetime(2022, 3, 21))\\\n",
    "                        &(df_sales_raw['date']<datetime.datetime(2022, 3, 28))].copy(deep=True)\n",
    "\n",
    "df_users = df_sales_raw[(df_sales_raw['date']<datetime.datetime(2022, 3, 28))][['user_id']].drop_duplicates()\\\n",
    "    .reset_index(drop=True).copy(deep=True)\n",
    "\n",
    "reven_df = df_sales.groupby(['user_id'])['price'].sum().reset_index().rename(columns={'price':'revenue'})\n",
    "reven_df.shape"
   ]
  },
  {
   "cell_type": "code",
   "execution_count": 5,
   "metadata": {},
   "outputs": [
    {
     "data": {
      "text/html": [
       "<div>\n",
       "<style scoped>\n",
       "    .dataframe tbody tr th:only-of-type {\n",
       "        vertical-align: middle;\n",
       "    }\n",
       "\n",
       "    .dataframe tbody tr th {\n",
       "        vertical-align: top;\n",
       "    }\n",
       "\n",
       "    .dataframe thead th {\n",
       "        text-align: right;\n",
       "    }\n",
       "</style>\n",
       "<table border=\"1\" class=\"dataframe\">\n",
       "  <thead>\n",
       "    <tr style=\"text-align: right;\">\n",
       "      <th></th>\n",
       "      <th>user_id</th>\n",
       "      <th>revenue</th>\n",
       "    </tr>\n",
       "  </thead>\n",
       "  <tbody>\n",
       "    <tr>\n",
       "      <th>98579</th>\n",
       "      <td>418026</td>\n",
       "      <td>600.0</td>\n",
       "    </tr>\n",
       "    <tr>\n",
       "      <th>98580</th>\n",
       "      <td>a34b19</td>\n",
       "      <td>780.0</td>\n",
       "    </tr>\n",
       "    <tr>\n",
       "      <th>98581</th>\n",
       "      <td>bbd203</td>\n",
       "      <td>660.0</td>\n",
       "    </tr>\n",
       "    <tr>\n",
       "      <th>98582</th>\n",
       "      <td>1d973d</td>\n",
       "      <td>600.0</td>\n",
       "    </tr>\n",
       "    <tr>\n",
       "      <th>98583</th>\n",
       "      <td>e419fe</td>\n",
       "      <td>780.0</td>\n",
       "    </tr>\n",
       "  </tbody>\n",
       "</table>\n",
       "</div>"
      ],
      "text/plain": [
       "      user_id  revenue\n",
       "98579  418026    600.0\n",
       "98580  a34b19    780.0\n",
       "98581  bbd203    660.0\n",
       "98582  1d973d    600.0\n",
       "98583  e419fe    780.0"
      ]
     },
     "execution_count": 5,
     "metadata": {},
     "output_type": "execute_result"
    }
   ],
   "source": [
    "df = df_users.merge(reven_df, on = ['user_id'], how='left').fillna(0)\n",
    "df.tail()"
   ]
  },
  {
   "cell_type": "markdown",
   "metadata": {},
   "source": [
    "`a, b = np.random.choice(values, (2, sample_size), False)`\n",
    "\n",
    "из массива values берутся две независимые выборки по sample_size элементов.\n",
    "Параметр False (эквивалентен replace=False) указывает, что элементы выбираются без повторений.\n",
    "Результат — два массива (a и b), каждый размером (1000), содержащие случайно выбранные значения из values.\n",
    "\n",
    "\n",
    "`indexes = np.random.choice(np.arange(sample_size), int(sample_size * 0.025), False)`\n",
    "\n",
    "Создаётся массив индексов (`np.arange(sample_size)`) - создаёт массив последовательных чисел от 0 до sample_size - 1.\n",
    "Если sample_size = 1000, то этот массив будет содержать числа [0, 1, 2, ..., 999].\n",
    "Выбираются случайные индексы (`np.random.choice(np.arange(sample_size), int(sample_size * 0.025), False)`). \n",
    "`int(sample_size * 0.025)` вычисляет количество элементов, которые нужно выбрать.\n",
    "Например, если sample_size = 1000, то 1000 * 0.025 = 25, значит, выберется 25 случайных индексов.\n",
    "`np.random.choice(..., replace=False)` выбирает случайные уникальные индексы (без повторений)."
   ]
  },
  {
   "cell_type": "code",
   "execution_count": 6,
   "metadata": {},
   "outputs": [
    {
     "name": "stderr",
     "output_type": "stream",
     "text": [
      "100%|██████████| 30000/30000 [05:03<00:00, 98.91it/s] \n"
     ]
    },
    {
     "name": "stdout",
     "output_type": "stream",
     "text": [
      "one: part_errors = 0.8138\n",
      "two: part_errors = 0.8280\n",
      "three: part_errors = 0.8238\n",
      "0.007377442001213756\n",
      "0.0159232708502451\n"
     ]
    }
   ],
   "source": [
    "alpha = 0.05\n",
    "sample_size = 1000\n",
    "effect = 0.1\n",
    "\n",
    "pvalues = {'one':[], 'two':[], 'three':[]}\n",
    "values = df['revenue'].values\n",
    "mean = values.mean()\n",
    "\n",
    "for _ in tqdm(range(5000)):\n",
    "    #берем 2 независимые выборки\n",
    "    a, b = np.random.choice(values, (2, sample_size), False)\n",
    "    #к группе b добавляем эфф-т тремя способами\n",
    "    #1 Добавление константы ко всем значениям\n",
    "    b_one = b + mean * effect\n",
    "    #2. Умножение на константу всех значений;\n",
    "    b_two = b * (1 + effect)\n",
    "    #3. Добавление константы к 2.5% значений.\n",
    "    #отбираем 2.5% значений\n",
    "    indexes = np.random.choice(np.arange(sample_size), int(sample_size * 0.025), False)\n",
    "    #вычисляем фиксированное значение\n",
    "    add_value = effect * mean * sample_size / len(indexes)\n",
    "    #генерим лист с нулями размера sample_size\n",
    "    mask = np.zeros(sample_size)\n",
    "    #добавляем 1 к элементам из маски по рандомным индексам (к которым хотим применить эфф-т)\n",
    "    mask[indexes] += 1\n",
    "    #добавляем константу к 2.5% значений\n",
    "    b_three = b + mask*add_value\n",
    "    #считаем и сохраняем p-value\n",
    "\n",
    "    for b_, key in ((b_one, 'one'), (b_two, 'two'), (b_three, 'three', ), ):\n",
    "        pvalues[key].append(stats.ttest_ind(a, b_).pvalue)\n",
    "    \n",
    "#считаем точечные оценки вероятностей ошибки II рода\n",
    "\n",
    "for key, v in pvalues.items():\n",
    "    errors = (np.array(v) > alpha).astype(int)\n",
    "    part_errors = np.mean(errors)\n",
    "    print(f\"{key}: part_errors = {part_errors:0.4f}\")\n",
    "\n",
    "\n",
    "#проверим, что отличия стат значимые\n",
    "print(stats.ttest_ind(pvalues['one'], pvalues['three']).pvalue)\n",
    "print(stats.ttest_ind(pvalues['two'], pvalues['three']).pvalue)"
   ]
  },
  {
   "cell_type": "markdown",
   "metadata": {},
   "source": [
    "### Задача 5. Функция оценки вероятности ошибок I/II рода\n",
    "   \n",
    "\n",
    " реализовать код для оценки вероятностей ошибок I и II рода.\n",
    "\n",
    " Напишите функцию `estimate_errors`.\n",
    "\n",
    " Обратите внимание, что на вход функции подаются не исходные значения метрики, а генератор, который выдаёт уже сэмплированные данные. Это позволит нам детерминировано протестировать правильноcть решения. Самостоятельно сэмлировать данные внутри функции estimate_errors не нужно.\n",
    "\n",
    "Пример реализации генератора `group_generator`"
   ]
  },
  {
   "cell_type": "code",
   "execution_count": 21,
   "metadata": {},
   "outputs": [],
   "source": [
    "def create_group_generator(metrics, sample_size, n_iter):\n",
    "    \"\"\"Генератор случайных групп.\n",
    "\n",
    "    :param metrics (pd.DataFame): таблица с метриками, columns=['user_id', 'metric'].\n",
    "    :param sample_size (int): размер групп (количество пользователей в группе).\n",
    "    :param n_iter (int): количество итераций генерирования случайных групп.\n",
    "    :return (np.array, np.array): два массива со значениями метрик в группах.\n",
    "    \"\"\"\n",
    "    user_ids = metrics['user_id'].unique()\n",
    "    for _ in range(n_iter):\n",
    "        a_user_ids, b_user_ids = np.random.choice(user_ids, (2, sample_size), False)\n",
    "        a_metric_values = metrics.loc[metrics['user_id'].isin(a_user_ids), 'metric'].values\n",
    "        b_metric_values = metrics.loc[metrics['user_id'].isin(b_user_ids), 'metric'].values\n",
    "        yield a_metric_values, b_metric_values"
   ]
  },
  {
   "cell_type": "code",
   "execution_count": 28,
   "metadata": {},
   "outputs": [],
   "source": [
    "import numpy as np\n",
    "import pandas as pd\n",
    "from scipy import stats \n",
    "\n",
    "def estimate_errors(group_generator, effect_add_type, effect, alpha):\n",
    "    \"\"\"Оцениваем вероятности ошибок I и II рода.\n",
    "\n",
    "    :param group_generator: генератор значений метрик для двух групп.\n",
    "    :param effect_add_type (str): способ добавления эффекта для группы B.\n",
    "        - 'all_const' - увеличить всем значениям в группе B на константу (b_metric_values.mean() * effect / 100).\n",
    "        - 'all_percent' - увеличить всем значениям в группе B в (1 + effect / 100) раз.\n",
    "    :param effect (float): размер эффекта в процентах.\n",
    "        Пример, effect=3 означает, что ожидаем увеличение среднего на 3%.\n",
    "    :param alpha (float): уровень значимости.\n",
    "    :return pvalues_aa (list[float]), pvalues_ab (list[float]), first_type_error (float), second_type_error (float):\n",
    "        - pvalues_aa, pvalues_ab - списки со значениями pvalue\n",
    "        - first_type_error, second_type_error - оценки вероятностей ошибок I и II рода.\n",
    "    \"\"\"\n",
    "    pvalues_aa = []\n",
    "    pvalues_ab = []\n",
    "    aa_rejections = 0\n",
    "    ab_rejections = 0\n",
    "    total_ab_tests = 0\n",
    "    total_aa_tests = 0\n",
    "\n",
    "\n",
    "    for a_metric_values, b_metric_values in group_generator:\n",
    "        #A/A тест\n",
    "        t_stat_aa, p_value_aa = stats.ttest_ind(a_metric_values, b_metric_values)\n",
    "        pvalues_aa.append(p_value_aa)\n",
    "        if p_value_aa < alpha:\n",
    "            aa_rejections += 1\n",
    "        total_aa_tests += 1\n",
    "        \n",
    "\n",
    "\n",
    "        #Добавление эффектап в группу B\n",
    "        if effect_add_type == 'all_const':\n",
    "            effect_value = b_metric_values.mean() * effect / 100\n",
    "            b_metric_values = b_metric_values + effect_value\n",
    "        elif effect_add_type == 'all_percent':\n",
    "            b_metric_values = b_metric_values * (1 + effect / 100)\n",
    "\n",
    "        # A/B тест\n",
    "        t_stat_ab, p_value_ab = stats.ttest_ind(a_metric_values, b_metric_values)\n",
    "        pvalues_ab.append(p_value_ab)\n",
    "        if p_value_ab >= alpha:\n",
    "            ab_rejections += 1\n",
    "        total_ab_tests += 1\n",
    "\n",
    "        #Ошибка I рода (ложный прокрас): частота ложных отклонений нулевой гипотезы в A/A тестах\n",
    "        first_type_error = aa_rejections / total_aa_tests\n",
    "\n",
    "        #Ошибка II рода (не задетектили эфф-т, хотя должны были): частота ошибочного не отвержения нулевой гипотезы в A/B тестах\n",
    "        second_type_error = ab_rejections / total_ab_tests\n",
    "\n",
    "    return pvalues_aa, pvalues_ab, first_type_error, second_type_error"
   ]
  },
  {
   "cell_type": "code",
   "execution_count": 29,
   "metadata": {},
   "outputs": [
    {
     "name": "stdout",
     "output_type": "stream",
     "text": [
      "[1.0, 0.8076897014876132, 0.626466928391483, 0.46552142375730854, 0.33078290948802747, 0.22442071600176872, 0.14521704796052834, 0.08955122234817349, 0.05260398295958351, 0.02942842378712022] [0.46998888346460643, 0.32717767794727437, 0.21622056020900776, 0.13547667660909338, 0.08040923108323633, 0.0451857170247001, 0.024036471488025152, 0.01210479143057956, 0.005773118838539618, 0.0026089925782345424] 0.1 0.5\n"
     ]
    }
   ],
   "source": [
    "sample_size, n_iter, effect, alpha = 100, 10, 6, 0.05\n",
    "\n",
    "group_generator = (\n",
    "    (np.arange(sample_size, dtype=float), np.arange(sample_size, dtype=float) + x,)\n",
    "    for x in range(n_iter)\n",
    ")\n",
    "effect_add_type = 'all_const'\n",
    "pvalues_aa, pvalues_ab, first_type_error, second_type_error = estimate_errors(\n",
    "    group_generator, effect_add_type, effect, alpha\n",
    ")\n",
    "\n",
    "print(pvalues_aa, pvalues_ab, first_type_error, second_type_error)"
   ]
  },
  {
   "cell_type": "code",
   "execution_count": 30,
   "metadata": {},
   "outputs": [
    {
     "name": "stdout",
     "output_type": "stream",
     "text": [
      "[1.0, 0.8076897014876132, 0.626466928391483, 0.46552142375730854, 0.33078290948802747, 0.22442071600176872, 0.14521704796052834, 0.08955122234817349, 0.05260398295958351, 0.02942842378712022] [0.4831887423209038, 0.3416347700112454, 0.23004311997715893, 0.14734018210283897, 0.08968620318339088, 0.05185562066504247, 0.02847298088463613, 0.014847390182757854, 0.007354593433564279, 0.0034622284148958867] 0.1 0.6\n"
     ]
    }
   ],
   "source": [
    "group_generator = (\n",
    "    (np.arange(sample_size, dtype=float), np.arange(sample_size, dtype=float) + x,)\n",
    "    for x in range(n_iter)\n",
    ")\n",
    "effect_add_type = 'all_percent'\n",
    "pvalues_aa, pvalues_ab, first_type_error, second_type_error = estimate_errors(\n",
    "    group_generator, effect_add_type, effect, alpha)\n",
    "\n",
    "print(pvalues_aa, pvalues_ab, first_type_error, second_type_error)"
   ]
  },
  {
   "cell_type": "code",
   "execution_count": null,
   "metadata": {},
   "outputs": [],
   "source": []
  }
 ],
 "metadata": {
  "kernelspec": {
   "display_name": "analytics_dags",
   "language": "python",
   "name": "python3"
  },
  "language_info": {
   "codemirror_mode": {
    "name": "ipython",
    "version": 3
   },
   "file_extension": ".py",
   "mimetype": "text/x-python",
   "name": "python",
   "nbconvert_exporter": "python",
   "pygments_lexer": "ipython3",
   "version": "3.9.19"
  }
 },
 "nbformat": 4,
 "nbformat_minor": 2
}
