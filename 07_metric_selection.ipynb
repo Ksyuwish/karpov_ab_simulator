{
 "cells": [
  {
   "cell_type": "markdown",
   "metadata": {},
   "source": [
    "### Задача 2. Функция вычисления метрики\n",
    " \n",
    "\n",
    "Напишите функцию `get_metric`, которая вычисляет значения метрики из предыдущего задания.\n",
    "\n",
    " \n",
    "\n",
    "Шаблон решения\n",
    "\n",
    "\n",
    "```python\n",
    "import pandas as pd\n",
    "\n",
    "\n",
    "def get_metric(df, support_cost):\n",
    "    \"\"\"Вычисляет значения метрики.\n",
    "\n",
    "    :param df (pd.DataFrame): таблица с данными о заказах со столбцами:\n",
    "        - revenue - выручка\n",
    "        - cost_price - себестоимость\n",
    "        - support - обращение в поддержку\n",
    "    :param support_cost (float): средняя стоимость одного обращения в поддержку\n",
    "    :return (pd.Series): значения метрики\n",
    "    \"\"\"\n",
    "    # YOUR_CODE_HERE\n",
    "```\n",
    "\n",
    "Пример\n",
    "\n",
    "```python\n",
    "df = pd.DataFrame({\n",
    "    'revenue': [1500, 1800, 2100],\n",
    "    'cost_price': [1300, 1200, 1600],\n",
    "    'support': [1, 0, 0],\n",
    "})\n",
    "support_cost = 110\n",
    "metric = get_metric(df, support_cost)\n",
    "# metric = pd.Series([90, 600, 500])"
   ]
  },
  {
   "cell_type": "code",
   "execution_count": 1,
   "metadata": {},
   "outputs": [],
   "source": [
    "import pandas as pd\n",
    "\n",
    "\n",
    "def get_metric(df, support_cost):\n",
    "    \"\"\"Вычисляет значения метрики.\n",
    "\n",
    "    :param df (pd.DataFrame): таблица с данными о заказах со столбцами:\n",
    "        - revenue - выручка\n",
    "        - cost_price - себестоимость\n",
    "        - support - обращение в поддержку\n",
    "    :param support_cost (float): средняя стоимость одного обращения в поддержку\n",
    "    :return (pd.Series): значения метрики\n",
    "    \"\"\"\n",
    "    \n",
    "    return df['revenue'] - df['cost_price'] - df['support'] * support_cost"
   ]
  },
  {
   "cell_type": "code",
   "execution_count": 2,
   "metadata": {},
   "outputs": [
    {
     "data": {
      "text/plain": [
       "0     90\n",
       "1    600\n",
       "2    500\n",
       "dtype: int64"
      ]
     },
     "execution_count": 2,
     "metadata": {},
     "output_type": "execute_result"
    }
   ],
   "source": [
    "df = pd.DataFrame({\n",
    "    'revenue': [1500, 1800, 2100],\n",
    "    'cost_price': [1300, 1200, 1600],\n",
    "    'support': [1, 0, 0],\n",
    "})\n",
    "support_cost = 110\n",
    "metric = get_metric(df, support_cost)\n",
    "metric\n",
    "# metric = pd.Series([90, 600, 500])"
   ]
  },
  {
   "cell_type": "markdown",
   "metadata": {},
   "source": [
    "### Задача 3. Пороговое значение\n",
    " \n",
    "\n",
    "Определите пороговое значении стоимости обращения в поддержку, при небольшом отклонение от которого меняется результат проверки гипотезы. Другими словами нужно найти значение, при котором p-value совпадает с уровнем значимости и среднее в экспериментальной группе больше, чем в контрольной.\n",
    "\n",
    "Проверяем гипотезу о равенстве средних для метрики, которую вычисляли в предыдущем задании. В качестве критерия используем тест Стьюдента. Уровень значимости равен 0.05.\n",
    "\n",
    "Ответ округлите до целого значения.\n",
    "\n",
    "Код для генерации данных эксперимента\n",
    "\n",
    "```python\n",
    "\n",
    "import numpy as np\n",
    "import pandas as pd\n",
    "\n",
    "sample_size = 1000\n",
    "df_control = pd.DataFrame({\n",
    "    'revenue': [int(np.sin(x / 12) * 600 + 1200) for x in range(sample_size)],\n",
    "    'cost_price': [int(np.sin(x / 12) * 400 + 700) for x in range(sample_size)],\n",
    "    'support': (np.arange(sample_size) < sample_size - 400).astype(int),\n",
    "})\n",
    "df_pilot = pd.DataFrame({\n",
    "    'revenue': [int(np.sin(x / 11 + 1) * 650 + 1250) for x in range(sample_size)],\n",
    "    'cost_price': [int(np.sin(x / 11 + 1) * 400 + 700) for x in range(sample_size)],\n",
    "    'support': (np.arange(sample_size) < sample_size - 300).astype(int),\n",
    "})"
   ]
  },
  {
   "cell_type": "code",
   "execution_count": 3,
   "metadata": {},
   "outputs": [],
   "source": [
    "import numpy as np\n",
    "import pandas as pd\n",
    "from scipy.stats import ttest_ind\n",
    "\n",
    "sample_size = 1000\n",
    "df_control = pd.DataFrame({\n",
    "    'revenue': [int(np.sin(x / 12) * 600 + 1200) for x in range(sample_size)],\n",
    "    'cost_price': [int(np.sin(x / 12) * 400 + 700) for x in range(sample_size)],\n",
    "    'support': (np.arange(sample_size) < sample_size - 400).astype(int),\n",
    "})\n",
    "df_pilot = pd.DataFrame({\n",
    "    'revenue': [int(np.sin(x / 11 + 1) * 650 + 1250) for x in range(sample_size)],\n",
    "    'cost_price': [int(np.sin(x / 11 + 1) * 400 + 700) for x in range(sample_size)],\n",
    "    'support': (np.arange(sample_size) < sample_size - 300).astype(int),\n",
    "})"
   ]
  },
  {
   "cell_type": "code",
   "execution_count": 4,
   "metadata": {},
   "outputs": [],
   "source": [
    "for i in range(0, 500):\n",
    "    alpha = 0.05\n",
    "    support_cost = i\n",
    "    metric_control = get_metric(df_control, support_cost)\n",
    "    metric_pilot = get_metric(df_pilot, support_cost)\n",
    "\n",
    "    metric_control_mean, metric_pilot_mean = metric_control.mean(), metric_pilot.mean()\n",
    "\n",
    "    pvalue = ttest_ind(metric_control, metric_pilot).pvalue\n",
    "\n",
    "    if pvalue == alpha and metric_pilot_mean>metric_control_mean:\n",
    "        print(support_cost)"
   ]
  },
  {
   "cell_type": "code",
   "execution_count": 10,
   "metadata": {},
   "outputs": [
    {
     "name": "stdout",
     "output_type": "stream",
     "text": [
      "0.04992404291974633 0.05 19.38900000000001\n",
      "Пороговое значение support_cost: 317\n"
     ]
    }
   ],
   "source": [
    "alpha = 0.05\n",
    "threshold_found = False\n",
    "\n",
    "for support_cost in range(0, 500):\n",
    "    metric_control = get_metric(df_control, support_cost)\n",
    "    metric_pilot = get_metric(df_pilot, support_cost)\n",
    "\n",
    "    pvalue = ttest_ind(metric_control, metric_pilot).pvalue\n",
    "    diff = metric_pilot.mean() - metric_control.mean()\n",
    "\n",
    "    if not threshold_found and abs(pvalue-alpha) < 0.001 and diff > 0:\n",
    "        print(pvalue, alpha, diff)\n",
    "        print(f\"Пороговое значение support_cost: {support_cost}\")\n",
    "        threshold_found = True\n",
    "        break\n",
    "\n"
   ]
  },
  {
   "cell_type": "code",
   "execution_count": null,
   "metadata": {},
   "outputs": [],
   "source": []
  }
 ],
 "metadata": {
  "kernelspec": {
   "display_name": "eda",
   "language": "python",
   "name": "python3"
  },
  "language_info": {
   "codemirror_mode": {
    "name": "ipython",
    "version": 3
   },
   "file_extension": ".py",
   "mimetype": "text/x-python",
   "name": "python",
   "nbconvert_exporter": "python",
   "pygments_lexer": "ipython3",
   "version": "3.9.19"
  }
 },
 "nbformat": 4,
 "nbformat_minor": 2
}
