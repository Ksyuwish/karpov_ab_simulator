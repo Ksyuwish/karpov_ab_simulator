{
 "cells": [
  {
   "cell_type": "code",
   "execution_count": 1,
   "metadata": {},
   "outputs": [],
   "source": [
    "import pandas as pd\n",
    "import numpy as np\n",
    "import matplotlib.pyplot as plt\n",
    "import scipy.stats as stats\n",
    "from datetime import datetime, timedelta"
   ]
  },
  {
   "cell_type": "markdown",
   "metadata": {},
   "source": [
    "**Задача 1. Отличия до эксперимента**\n",
    "  \n",
    "\n",
    "Возьмите те же группы, что и в эксперименте с изменением дизайна сайта, и проверьте значимость отличий средней выручки с пользователя на неделе перед экспериментом (c 2022.03.16 по 2022.03.23).\n",
    "\n",
    "Для решения используйте данные из файлов 2022-04-01T12_df_sales.csv и experiment_users.csv.\n",
    "\n",
    "В качестве ответа введите p-value, округлённое до 3-го знака после точки."
   ]
  },
  {
   "cell_type": "code",
   "execution_count": 2,
   "metadata": {},
   "outputs": [],
   "source": [
    "df_sales = pd.read_csv('2022-04-01T12_df_sales.csv')\n",
    "df_users = pd.read_csv('experiment_users.csv')"
   ]
  },
  {
   "cell_type": "code",
   "execution_count": 3,
   "metadata": {},
   "outputs": [
    {
     "name": "stdout",
     "output_type": "stream",
     "text": [
      "(203847, 6)\n"
     ]
    },
    {
     "data": {
      "text/html": [
       "<div>\n",
       "<style scoped>\n",
       "    .dataframe tbody tr th:only-of-type {\n",
       "        vertical-align: middle;\n",
       "    }\n",
       "\n",
       "    .dataframe tbody tr th {\n",
       "        vertical-align: top;\n",
       "    }\n",
       "\n",
       "    .dataframe thead th {\n",
       "        text-align: right;\n",
       "    }\n",
       "</style>\n",
       "<table border=\"1\" class=\"dataframe\">\n",
       "  <thead>\n",
       "    <tr style=\"text-align: right;\">\n",
       "      <th></th>\n",
       "      <th>sale_id</th>\n",
       "      <th>date</th>\n",
       "      <th>count_pizza</th>\n",
       "      <th>count_drink</th>\n",
       "      <th>price</th>\n",
       "      <th>user_id</th>\n",
       "    </tr>\n",
       "  </thead>\n",
       "  <tbody>\n",
       "    <tr>\n",
       "      <th>98793</th>\n",
       "      <td>1098794</td>\n",
       "      <td>2022-03-03 12:12:01</td>\n",
       "      <td>1</td>\n",
       "      <td>0</td>\n",
       "      <td>600</td>\n",
       "      <td>656f8d</td>\n",
       "    </tr>\n",
       "    <tr>\n",
       "      <th>145608</th>\n",
       "      <td>1145609</td>\n",
       "      <td>2022-03-15 20:49:50</td>\n",
       "      <td>1</td>\n",
       "      <td>1</td>\n",
       "      <td>780</td>\n",
       "      <td>dad1e8</td>\n",
       "    </tr>\n",
       "    <tr>\n",
       "      <th>106954</th>\n",
       "      <td>1106955</td>\n",
       "      <td>2022-03-05 13:48:03</td>\n",
       "      <td>3</td>\n",
       "      <td>0</td>\n",
       "      <td>1980</td>\n",
       "      <td>99f2f8</td>\n",
       "    </tr>\n",
       "  </tbody>\n",
       "</table>\n",
       "</div>"
      ],
      "text/plain": [
       "        sale_id                 date  count_pizza  count_drink  price user_id\n",
       "98793   1098794  2022-03-03 12:12:01            1            0    600  656f8d\n",
       "145608  1145609  2022-03-15 20:49:50            1            1    780  dad1e8\n",
       "106954  1106955  2022-03-05 13:48:03            3            0   1980  99f2f8"
      ]
     },
     "metadata": {},
     "output_type": "display_data"
    },
    {
     "name": "stdout",
     "output_type": "stream",
     "text": [
      "<class 'pandas.core.frame.DataFrame'>\n",
      "RangeIndex: 203847 entries, 0 to 203846\n",
      "Data columns (total 6 columns):\n",
      " #   Column       Non-Null Count   Dtype \n",
      "---  ------       --------------   ----- \n",
      " 0   sale_id      203847 non-null  int64 \n",
      " 1   date         203847 non-null  object\n",
      " 2   count_pizza  203847 non-null  int64 \n",
      " 3   count_drink  203847 non-null  int64 \n",
      " 4   price        203847 non-null  int64 \n",
      " 5   user_id      203847 non-null  object\n",
      "dtypes: int64(4), object(2)\n",
      "memory usage: 9.3+ MB\n",
      "None\n",
      "(23333, 2)\n"
     ]
    },
    {
     "data": {
      "text/html": [
       "<div>\n",
       "<style scoped>\n",
       "    .dataframe tbody tr th:only-of-type {\n",
       "        vertical-align: middle;\n",
       "    }\n",
       "\n",
       "    .dataframe tbody tr th {\n",
       "        vertical-align: top;\n",
       "    }\n",
       "\n",
       "    .dataframe thead th {\n",
       "        text-align: right;\n",
       "    }\n",
       "</style>\n",
       "<table border=\"1\" class=\"dataframe\">\n",
       "  <thead>\n",
       "    <tr style=\"text-align: right;\">\n",
       "      <th></th>\n",
       "      <th>user_id</th>\n",
       "      <th>pilot</th>\n",
       "    </tr>\n",
       "  </thead>\n",
       "  <tbody>\n",
       "    <tr>\n",
       "      <th>883</th>\n",
       "      <td>a57e7e</td>\n",
       "      <td>0</td>\n",
       "    </tr>\n",
       "    <tr>\n",
       "      <th>20713</th>\n",
       "      <td>2e9777</td>\n",
       "      <td>1</td>\n",
       "    </tr>\n",
       "    <tr>\n",
       "      <th>5019</th>\n",
       "      <td>6e3c16</td>\n",
       "      <td>0</td>\n",
       "    </tr>\n",
       "  </tbody>\n",
       "</table>\n",
       "</div>"
      ],
      "text/plain": [
       "      user_id  pilot\n",
       "883    a57e7e      0\n",
       "20713  2e9777      1\n",
       "5019   6e3c16      0"
      ]
     },
     "metadata": {},
     "output_type": "display_data"
    },
    {
     "name": "stdout",
     "output_type": "stream",
     "text": [
      "<class 'pandas.core.frame.DataFrame'>\n",
      "RangeIndex: 23333 entries, 0 to 23332\n",
      "Data columns (total 2 columns):\n",
      " #   Column   Non-Null Count  Dtype \n",
      "---  ------   --------------  ----- \n",
      " 0   user_id  23333 non-null  object\n",
      " 1   pilot    23333 non-null  int64 \n",
      "dtypes: int64(1), object(1)\n",
      "memory usage: 364.7+ KB\n",
      "None\n"
     ]
    }
   ],
   "source": [
    "print(df_sales.shape)\n",
    "display(df_sales.sample(3))\n",
    "print(df_sales.info())\n",
    "\n",
    "print(df_users.shape)\n",
    "display(df_users.sample(3))\n",
    "print(df_users.info())"
   ]
  },
  {
   "cell_type": "code",
   "execution_count": 4,
   "metadata": {},
   "outputs": [],
   "source": [
    "df_sales['date'] = pd.to_datetime(df_sales['date'])"
   ]
  },
  {
   "cell_type": "code",
   "execution_count": 5,
   "metadata": {},
   "outputs": [
    {
     "data": {
      "text/plain": [
       "pilot\n",
       "0    11769\n",
       "1    11564\n",
       "Name: count, dtype: int64"
      ]
     },
     "execution_count": 5,
     "metadata": {},
     "output_type": "execute_result"
    }
   ],
   "source": [
    "# количество пользователей в группах\n",
    "df_users['pilot'].value_counts()"
   ]
  },
  {
   "cell_type": "code",
   "execution_count": 6,
   "metadata": {},
   "outputs": [],
   "source": [
    "start_dt = datetime(2022, 3, 16)\n",
    "end_dt = datetime(2022, 3, 23)"
   ]
  },
  {
   "cell_type": "code",
   "execution_count": 7,
   "metadata": {},
   "outputs": [],
   "source": [
    "df_metric = df_sales[(df_sales['date']>=start_dt)&(df_sales['date']<end_dt)]\\\n",
    "    .groupby('user_id').agg(revenue = ('price', 'sum')).reset_index()"
   ]
  },
  {
   "cell_type": "code",
   "execution_count": 8,
   "metadata": {},
   "outputs": [
    {
     "name": "stdout",
     "output_type": "stream",
     "text": [
      "(24600, 2)\n"
     ]
    },
    {
     "data": {
      "text/html": [
       "<div>\n",
       "<style scoped>\n",
       "    .dataframe tbody tr th:only-of-type {\n",
       "        vertical-align: middle;\n",
       "    }\n",
       "\n",
       "    .dataframe tbody tr th {\n",
       "        vertical-align: top;\n",
       "    }\n",
       "\n",
       "    .dataframe thead th {\n",
       "        text-align: right;\n",
       "    }\n",
       "</style>\n",
       "<table border=\"1\" class=\"dataframe\">\n",
       "  <thead>\n",
       "    <tr style=\"text-align: right;\">\n",
       "      <th></th>\n",
       "      <th>user_id</th>\n",
       "      <th>revenue</th>\n",
       "    </tr>\n",
       "  </thead>\n",
       "  <tbody>\n",
       "    <tr>\n",
       "      <th>9344</th>\n",
       "      <td>60fcef</td>\n",
       "      <td>780</td>\n",
       "    </tr>\n",
       "    <tr>\n",
       "      <th>15133</th>\n",
       "      <td>9c824a</td>\n",
       "      <td>600</td>\n",
       "    </tr>\n",
       "    <tr>\n",
       "      <th>13965</th>\n",
       "      <td>90f72c</td>\n",
       "      <td>2100</td>\n",
       "    </tr>\n",
       "    <tr>\n",
       "      <th>17798</th>\n",
       "      <td>b8699a</td>\n",
       "      <td>1320</td>\n",
       "    </tr>\n",
       "    <tr>\n",
       "      <th>20289</th>\n",
       "      <td>d2a536</td>\n",
       "      <td>600</td>\n",
       "    </tr>\n",
       "  </tbody>\n",
       "</table>\n",
       "</div>"
      ],
      "text/plain": [
       "      user_id  revenue\n",
       "9344   60fcef      780\n",
       "15133  9c824a      600\n",
       "13965  90f72c     2100\n",
       "17798  b8699a     1320\n",
       "20289  d2a536      600"
      ]
     },
     "metadata": {},
     "output_type": "display_data"
    }
   ],
   "source": [
    "print(df_metric.shape)\n",
    "display(df_metric.sample(5))"
   ]
  },
  {
   "cell_type": "code",
   "execution_count": 9,
   "metadata": {},
   "outputs": [],
   "source": [
    "df = df_users.merge(df_metric, how='left', on=['user_id'])\n",
    "df['revenue'] = df['revenue'].fillna(0)"
   ]
  },
  {
   "cell_type": "code",
   "execution_count": 10,
   "metadata": {},
   "outputs": [
    {
     "data": {
      "text/plain": [
       "TtestResult(statistic=-1.2837567415000515, pvalue=0.19923983306424942, df=23331.0)"
      ]
     },
     "execution_count": 10,
     "metadata": {},
     "output_type": "execute_result"
    }
   ],
   "source": [
    "#Разделяем выборки на контроль и тест\n",
    "df_control = df[df['pilot']==0]['revenue']\n",
    "df_test = df[df['pilot']==1]['revenue']\n",
    "\n",
    "stats.ttest_ind(df_control, df_test)"
   ]
  },
  {
   "cell_type": "code",
   "execution_count": 11,
   "metadata": {},
   "outputs": [
    {
     "name": "stdout",
     "output_type": "stream",
     "text": [
      "pvalue =  0.199\n"
     ]
    }
   ],
   "source": [
    "print('pvalue = ', round(stats.ttest_ind(df_control, df_test)[1], 3))"
   ]
  },
  {
   "cell_type": "markdown",
   "metadata": {},
   "source": [
    "**Задача 2. Среднее время между покупками**\n",
    "  \n",
    "\n",
    "При выполнении прошлого задания вы могли заметить, что в данных много нулей. Это значит, что большая часть пользователей, совершивших покупку во время эксперимента, не совершала покупок на неделе до эксперимента. Интересно, как часто наши клиенты делают покупки?\n",
    "\n",
    "Оцените среднее время между покупками. Возьмите всех клиентов, у которых 2 и более покупок. Вычислите время между покупками (для клиента с N покупками должно получиться N-1 значения времени). Объедините значения всех клиентов и вычислите среднее.\n",
    "\n",
    "Для решения используйте данные из файлов `2022-04-01T12_df_sales.csv.`\n",
    "\n",
    "В качестве ответа введите среднее количество дней между покупками, округлённое до целого значения."
   ]
  },
  {
   "cell_type": "code",
   "execution_count": 12,
   "metadata": {},
   "outputs": [
    {
     "name": "stdout",
     "output_type": "stream",
     "text": [
      "(203847, 6)\n"
     ]
    },
    {
     "data": {
      "text/html": [
       "<div>\n",
       "<style scoped>\n",
       "    .dataframe tbody tr th:only-of-type {\n",
       "        vertical-align: middle;\n",
       "    }\n",
       "\n",
       "    .dataframe tbody tr th {\n",
       "        vertical-align: top;\n",
       "    }\n",
       "\n",
       "    .dataframe thead th {\n",
       "        text-align: right;\n",
       "    }\n",
       "</style>\n",
       "<table border=\"1\" class=\"dataframe\">\n",
       "  <thead>\n",
       "    <tr style=\"text-align: right;\">\n",
       "      <th></th>\n",
       "      <th>sale_id</th>\n",
       "      <th>date</th>\n",
       "      <th>count_pizza</th>\n",
       "      <th>count_drink</th>\n",
       "      <th>price</th>\n",
       "      <th>user_id</th>\n",
       "    </tr>\n",
       "  </thead>\n",
       "  <tbody>\n",
       "    <tr>\n",
       "      <th>67536</th>\n",
       "      <td>1067537</td>\n",
       "      <td>2022-02-22 13:58:12</td>\n",
       "      <td>3</td>\n",
       "      <td>2</td>\n",
       "      <td>2130</td>\n",
       "      <td>9ec757</td>\n",
       "    </tr>\n",
       "    <tr>\n",
       "      <th>96674</th>\n",
       "      <td>1096675</td>\n",
       "      <td>2022-03-02 15:49:03</td>\n",
       "      <td>1</td>\n",
       "      <td>0</td>\n",
       "      <td>720</td>\n",
       "      <td>668988</td>\n",
       "    </tr>\n",
       "    <tr>\n",
       "      <th>28472</th>\n",
       "      <td>1028473</td>\n",
       "      <td>2022-02-11 17:59:52</td>\n",
       "      <td>1</td>\n",
       "      <td>0</td>\n",
       "      <td>720</td>\n",
       "      <td>f4e345</td>\n",
       "    </tr>\n",
       "  </tbody>\n",
       "</table>\n",
       "</div>"
      ],
      "text/plain": [
       "       sale_id                date  count_pizza  count_drink  price user_id\n",
       "67536  1067537 2022-02-22 13:58:12            3            2   2130  9ec757\n",
       "96674  1096675 2022-03-02 15:49:03            1            0    720  668988\n",
       "28472  1028473 2022-02-11 17:59:52            1            0    720  f4e345"
      ]
     },
     "metadata": {},
     "output_type": "display_data"
    },
    {
     "name": "stdout",
     "output_type": "stream",
     "text": [
      "<class 'pandas.core.frame.DataFrame'>\n",
      "RangeIndex: 203847 entries, 0 to 203846\n",
      "Data columns (total 6 columns):\n",
      " #   Column       Non-Null Count   Dtype         \n",
      "---  ------       --------------   -----         \n",
      " 0   sale_id      203847 non-null  int64         \n",
      " 1   date         203847 non-null  datetime64[ns]\n",
      " 2   count_pizza  203847 non-null  int64         \n",
      " 3   count_drink  203847 non-null  int64         \n",
      " 4   price        203847 non-null  int64         \n",
      " 5   user_id      203847 non-null  object        \n",
      "dtypes: datetime64[ns](1), int64(4), object(1)\n",
      "memory usage: 9.3+ MB\n",
      "None\n"
     ]
    }
   ],
   "source": [
    "print(df_sales.shape)\n",
    "display(df_sales.sample(3))\n",
    "print(df_sales.info())"
   ]
  },
  {
   "cell_type": "code",
   "execution_count": 13,
   "metadata": {},
   "outputs": [],
   "source": [
    "#считаем кол-во заказов по каждому пользователю\n",
    "cnt_orders_df = df_sales.groupby('user_id').agg(cnt_orders=('count_pizza', 'count')).reset_index()\n",
    "#фильтруем пользователей с покупками >=2\n",
    "cnt_orders_df = cnt_orders_df.loc[cnt_orders_df['cnt_orders']>=2]\n",
    "#Отфильтровываем пользователей из df_sales\n",
    "df_sales_filt = df_sales[df_sales['user_id'].isin(cnt_orders_df['user_id'].unique())]"
   ]
  },
  {
   "cell_type": "code",
   "execution_count": 14,
   "metadata": {},
   "outputs": [],
   "source": [
    "df_sales_filt = df_sales_filt.sort_values(by=['user_id', 'date'])\n",
    "#добавляем новый столбец с датой следующей покупки\n",
    "df_sales_filt['next_date'] = df_sales_filt.groupby('user_id')['date'].shift(-1)"
   ]
  },
  {
   "cell_type": "code",
   "execution_count": 15,
   "metadata": {},
   "outputs": [
    {
     "name": "stdout",
     "output_type": "stream",
     "text": [
      "Среднее время между покупками: 17 дней\n"
     ]
    }
   ],
   "source": [
    "print(f\"Среднее время между покупками: {round(((df_sales_filt['next_date']-df_sales_filt['date']).dt.total_seconds()/86400).mean(), )} дней\")\n"
   ]
  },
  {
   "cell_type": "markdown",
   "metadata": {},
   "source": [
    "**Задача 3. Функция для проверки статистической значимости**\n",
    " \n",
    "\n",
    "Для проверки статистической значимости нужно вычислить p-value и сравнить его с уровнем значимости.\n",
    "\n",
    "Напишите функцию `get_ttest_pvalue`"
   ]
  },
  {
   "cell_type": "raw",
   "metadata": {},
   "source": [
    "Шаблон решения\n",
    "\n",
    "import numpy as np\n",
    "from scipy import stats\n",
    "\n",
    "\n",
    "def get_ttest_pvalue(metrics_a_group, metrics_b_group):\n",
    "    \"\"\"Применяет тест Стьюдента, возвращает pvalue.\n",
    "\n",
    "    :param metrics_a_group (np.array): массив значений метрик группы A\n",
    "    :param metrics_a_group (np.array): массив значений метрик группы B\n",
    "    :return (float): значение p-value\n",
    "    \"\"\"\n",
    "    # YOUR_CODE_HERE\n",
    "\n",
    "\n",
    "Пример\n",
    "\n",
    "metrics_a_group = np.array([964, 1123, 962, 1213, 914, 906, 951, 1033, 987, 1082])\n",
    "metrics_b_group = np.array([952, 1064, 1091, 1079, 1158, 921, 1161, 1064, 819, 1065])\n",
    "pvalue = get_ttest_pvalue(metrics_a_group, metrics_b_group)\n",
    "# pvalue = 0.6122191629541949"
   ]
  },
  {
   "cell_type": "code",
   "execution_count": 19,
   "metadata": {},
   "outputs": [],
   "source": [
    "#Решение\n",
    "def get_ttest_pvalue(metrics_a_group, metrics_b_group):\n",
    "    \"\"\"Применяет тест Стьюдента, возвращает pvalue.\n",
    "\n",
    "    :param metrics_a_group (np.array): массив значений метрик группы A\n",
    "    :param metrics_a_group (np.array): массив значений метрик группы B\n",
    "    :return (float): значение p-value\n",
    "    \"\"\"\n",
    "    pvalue = stats.ttest_ind(metrics_a_group, metrics_b_group)[1]\n",
    "\n",
    "    return pvalue"
   ]
  },
  {
   "cell_type": "code",
   "execution_count": 20,
   "metadata": {},
   "outputs": [
    {
     "name": "stdout",
     "output_type": "stream",
     "text": [
      "0.6122191629541949\n"
     ]
    }
   ],
   "source": [
    "metrics_a_group = np.array([964, 1123, 962, 1213, 914, 906, 951, 1033, 987, 1082])\n",
    "metrics_b_group = np.array([952, 1064, 1091, 1079, 1158, 921, 1161, 1064, 819, 1065])\n",
    "pvalue = get_ttest_pvalue(metrics_a_group, metrics_b_group)\n",
    "print(pvalue)\n",
    "# pvalue = 0.6122191629541949"
   ]
  },
  {
   "cell_type": "code",
   "execution_count": null,
   "metadata": {},
   "outputs": [],
   "source": []
  }
 ],
 "metadata": {
  "kernelspec": {
   "display_name": "eda",
   "language": "python",
   "name": "python3"
  },
  "language_info": {
   "codemirror_mode": {
    "name": "ipython",
    "version": 3
   },
   "file_extension": ".py",
   "mimetype": "text/x-python",
   "name": "python",
   "nbconvert_exporter": "python",
   "pygments_lexer": "ipython3",
   "version": "3.9.19"
  }
 },
 "nbformat": 4,
 "nbformat_minor": 2
}
