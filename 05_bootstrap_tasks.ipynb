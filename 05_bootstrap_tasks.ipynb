{
 "cells": [
  {
   "cell_type": "code",
   "execution_count": 1,
   "metadata": {},
   "outputs": [],
   "source": [
    "import pandas as pd\n",
    "import numpy as np\n",
    "import datetime\n",
    "import scipy.stats as stats\n",
    "from scipy.stats import norm, ttest_ind\n",
    "from tqdm import tqdm"
   ]
  },
  {
   "cell_type": "markdown",
   "metadata": {},
   "source": [
    "### Задача  1. Оценка разных статистик\n",
    "  \n",
    "\n",
    "В лекции мы выяснили, что в эксперименте «Refactoring backend» в экспериментальной группе среднее время загрузки увеличилось, а 99% квантиль уменьшился. Проверьте значимость отличий других квантилей.\n",
    "\n",
    "Данные эксперимента «Refactoring backend»: `2022-04-13/2022-04-13T12_df_web_logs.csv` и `2022-04-13/experiment_users.csv`. Эксперимент проводился с 2022-04-05 по 2022-04-12. Измерения времени обработки запросов считаем независимыми. При проверке используйте нормальный доверительный интервал."
   ]
  },
  {
   "cell_type": "code",
   "execution_count": 2,
   "metadata": {},
   "outputs": [
    {
     "name": "stdout",
     "output_type": "stream",
     "text": [
      "Размер df_web_logs:  (2401709, 4)\n"
     ]
    },
    {
     "data": {
      "text/html": [
       "<div>\n",
       "<style scoped>\n",
       "    .dataframe tbody tr th:only-of-type {\n",
       "        vertical-align: middle;\n",
       "    }\n",
       "\n",
       "    .dataframe tbody tr th {\n",
       "        vertical-align: top;\n",
       "    }\n",
       "\n",
       "    .dataframe thead th {\n",
       "        text-align: right;\n",
       "    }\n",
       "</style>\n",
       "<table border=\"1\" class=\"dataframe\">\n",
       "  <thead>\n",
       "    <tr style=\"text-align: right;\">\n",
       "      <th></th>\n",
       "      <th>user_id</th>\n",
       "      <th>page</th>\n",
       "      <th>date</th>\n",
       "      <th>load_time</th>\n",
       "    </tr>\n",
       "  </thead>\n",
       "  <tbody>\n",
       "    <tr>\n",
       "      <th>1807861</th>\n",
       "      <td>74be04</td>\n",
       "      <td>m</td>\n",
       "      <td>2022-03-27 13:31:29</td>\n",
       "      <td>76.9</td>\n",
       "    </tr>\n",
       "    <tr>\n",
       "      <th>1733664</th>\n",
       "      <td>461ac8</td>\n",
       "      <td>m</td>\n",
       "      <td>2022-03-25 14:38:14</td>\n",
       "      <td>80.2</td>\n",
       "    </tr>\n",
       "    <tr>\n",
       "      <th>91759</th>\n",
       "      <td>e1f41d</td>\n",
       "      <td>m</td>\n",
       "      <td>2022-02-06 13:53:08</td>\n",
       "      <td>76.8</td>\n",
       "    </tr>\n",
       "  </tbody>\n",
       "</table>\n",
       "</div>"
      ],
      "text/plain": [
       "        user_id page                 date  load_time\n",
       "1807861  74be04    m  2022-03-27 13:31:29       76.9\n",
       "1733664  461ac8    m  2022-03-25 14:38:14       80.2\n",
       "91759    e1f41d    m  2022-02-06 13:53:08       76.8"
      ]
     },
     "metadata": {},
     "output_type": "display_data"
    },
    {
     "name": "stdout",
     "output_type": "stream",
     "text": [
      "Размер df_exp_users:  (23333, 2)\n"
     ]
    },
    {
     "data": {
      "text/html": [
       "<div>\n",
       "<style scoped>\n",
       "    .dataframe tbody tr th:only-of-type {\n",
       "        vertical-align: middle;\n",
       "    }\n",
       "\n",
       "    .dataframe tbody tr th {\n",
       "        vertical-align: top;\n",
       "    }\n",
       "\n",
       "    .dataframe thead th {\n",
       "        text-align: right;\n",
       "    }\n",
       "</style>\n",
       "<table border=\"1\" class=\"dataframe\">\n",
       "  <thead>\n",
       "    <tr style=\"text-align: right;\">\n",
       "      <th></th>\n",
       "      <th>user_id</th>\n",
       "      <th>pilot</th>\n",
       "    </tr>\n",
       "  </thead>\n",
       "  <tbody>\n",
       "    <tr>\n",
       "      <th>20969</th>\n",
       "      <td>3f73c4</td>\n",
       "      <td>1</td>\n",
       "    </tr>\n",
       "    <tr>\n",
       "      <th>16352</th>\n",
       "      <td>3f42a2</td>\n",
       "      <td>1</td>\n",
       "    </tr>\n",
       "    <tr>\n",
       "      <th>2651</th>\n",
       "      <td>eb5e0b</td>\n",
       "      <td>0</td>\n",
       "    </tr>\n",
       "  </tbody>\n",
       "</table>\n",
       "</div>"
      ],
      "text/plain": [
       "      user_id  pilot\n",
       "20969  3f73c4      1\n",
       "16352  3f42a2      1\n",
       "2651   eb5e0b      0"
      ]
     },
     "metadata": {},
     "output_type": "display_data"
    }
   ],
   "source": [
    "df_web_logs = pd.read_csv('./2022-04-13T12_df_web_logs.csv')\n",
    "df_exp_users = pd.read_csv('./experiment_users.csv')\n",
    "\n",
    "\n",
    "print('Размер df_web_logs: ', df_web_logs.shape)\n",
    "display(df_web_logs.sample(3))\n",
    "print('Размер df_exp_users: ', df_exp_users.shape)\n",
    "display(df_exp_users.sample(3))"
   ]
  },
  {
   "cell_type": "code",
   "execution_count": 3,
   "metadata": {},
   "outputs": [],
   "source": [
    "#даты проведения эксперимента\n",
    "date_start = datetime.datetime(2022, 4, 5)\n",
    "date_end = datetime.datetime(2022, 4, 12)"
   ]
  },
  {
   "cell_type": "code",
   "execution_count": 4,
   "metadata": {},
   "outputs": [
    {
     "data": {
      "text/plain": [
       "count                          2401709\n",
       "mean     2022-03-10 05:41:51.294321920\n",
       "min                2022-02-03 23:45:37\n",
       "25%                2022-02-20 18:28:37\n",
       "50%                2022-03-10 13:05:19\n",
       "75%                2022-03-27 11:49:53\n",
       "max                2022-04-13 11:59:59\n",
       "Name: date, dtype: object"
      ]
     },
     "execution_count": 4,
     "metadata": {},
     "output_type": "execute_result"
    }
   ],
   "source": [
    "df_web_logs['date'] = pd.to_datetime(df_web_logs['date'])\n",
    "df_web_logs['date'].describe()"
   ]
  },
  {
   "cell_type": "code",
   "execution_count": 5,
   "metadata": {},
   "outputs": [],
   "source": [
    "merged_df = df_web_logs[(df_web_logs['date']>=date_start)&(df_web_logs['date']<date_end)].merge(df_exp_users, on=['user_id'])"
   ]
  },
  {
   "cell_type": "code",
   "execution_count": 6,
   "metadata": {},
   "outputs": [
    {
     "name": "stdout",
     "output_type": "stream",
     "text": [
      "(51403, 5)\n"
     ]
    },
    {
     "data": {
      "text/html": [
       "<div>\n",
       "<style scoped>\n",
       "    .dataframe tbody tr th:only-of-type {\n",
       "        vertical-align: middle;\n",
       "    }\n",
       "\n",
       "    .dataframe tbody tr th {\n",
       "        vertical-align: top;\n",
       "    }\n",
       "\n",
       "    .dataframe thead th {\n",
       "        text-align: right;\n",
       "    }\n",
       "</style>\n",
       "<table border=\"1\" class=\"dataframe\">\n",
       "  <thead>\n",
       "    <tr style=\"text-align: right;\">\n",
       "      <th></th>\n",
       "      <th>user_id</th>\n",
       "      <th>page</th>\n",
       "      <th>date</th>\n",
       "      <th>load_time</th>\n",
       "      <th>pilot</th>\n",
       "    </tr>\n",
       "  </thead>\n",
       "  <tbody>\n",
       "    <tr>\n",
       "      <th>34796</th>\n",
       "      <td>615d4c</td>\n",
       "      <td>m</td>\n",
       "      <td>2022-04-09 19:38:28</td>\n",
       "      <td>77.1</td>\n",
       "      <td>0</td>\n",
       "    </tr>\n",
       "    <tr>\n",
       "      <th>47811</th>\n",
       "      <td>c8fad1</td>\n",
       "      <td>m</td>\n",
       "      <td>2022-04-11 15:52:33</td>\n",
       "      <td>95.8</td>\n",
       "      <td>1</td>\n",
       "    </tr>\n",
       "    <tr>\n",
       "      <th>7954</th>\n",
       "      <td>e9eed9</td>\n",
       "      <td>m</td>\n",
       "      <td>2022-04-06 13:23:48</td>\n",
       "      <td>82.7</td>\n",
       "      <td>1</td>\n",
       "    </tr>\n",
       "  </tbody>\n",
       "</table>\n",
       "</div>"
      ],
      "text/plain": [
       "      user_id page                date  load_time  pilot\n",
       "34796  615d4c    m 2022-04-09 19:38:28       77.1      0\n",
       "47811  c8fad1    m 2022-04-11 15:52:33       95.8      1\n",
       "7954   e9eed9    m 2022-04-06 13:23:48       82.7      1"
      ]
     },
     "execution_count": 6,
     "metadata": {},
     "output_type": "execute_result"
    }
   ],
   "source": [
    "print(merged_df.shape)\n",
    "merged_df.sample(3)"
   ]
  },
  {
   "cell_type": "code",
   "execution_count": 7,
   "metadata": {},
   "outputs": [
    {
     "data": {
      "text/plain": [
       "0"
      ]
     },
     "execution_count": 7,
     "metadata": {},
     "output_type": "execute_result"
    }
   ],
   "source": [
    "merged_df.duplicated().sum()"
   ]
  },
  {
   "cell_type": "markdown",
   "metadata": {},
   "source": [
    "Надо проверить квантили:\n",
    "\n",
    "- Квантиль 0.7\n",
    "\n",
    "- Квантиль 0.74\n",
    "\n",
    "- Квантиль 0.78 \n",
    "\n",
    "- Квантиль 0.82 \n",
    "\n",
    "- Квантиль 0.86 \n",
    "\n",
    "- Квантиль 0.90\n",
    "\n",
    "- Квантиль 0.95 \n",
    "\n",
    "- Квантиль 0.99\n",
    "\n",
    "- Квантиль 0.999\n",
    "\n",
    "- Квантиль 0.9999 "
   ]
  },
  {
   "cell_type": "code",
   "execution_count": 8,
   "metadata": {},
   "outputs": [],
   "source": [
    "control = merged_df[merged_df['pilot']==0].copy(deep=True)\n",
    "treatment = merged_df[merged_df['pilot']==1].copy(deep=True)"
   ]
  },
  {
   "cell_type": "code",
   "execution_count": 9,
   "metadata": {},
   "outputs": [
    {
     "name": "stdout",
     "output_type": "stream",
     "text": [
      "Средние значения в контроле и тесте:  73.34623359478138 73.6773090568833\n"
     ]
    }
   ],
   "source": [
    "print('Средние значения в контроле и тесте: ', control['load_time'].mean(), treatment['load_time'].mean())"
   ]
  },
  {
   "cell_type": "code",
   "execution_count": 10,
   "metadata": {},
   "outputs": [],
   "source": [
    "list_perc = [0.7, 0.74, 0.78, 0.82, 0.86, 0.90, 0.95, 0.99, 0.999, 0.9999]\n",
    "perc_res_a_list = []\n",
    "perc_res_b_list = []\n",
    "for i in list_perc:\n",
    "    perc_res_a_list.append(np.percentile(control['load_time'], i))\n",
    "    perc_res_b_list.append(np.percentile(treatment['load_time'], i))\n",
    "    \n",
    "perc_res_a = dict(zip(list_perc, perc_res_a_list))\n",
    "perc_res_b = dict(zip(list_perc, perc_res_b_list))"
   ]
  },
  {
   "cell_type": "code",
   "execution_count": 11,
   "metadata": {},
   "outputs": [
    {
     "data": {
      "text/plain": [
       "{0.7: 37.6,\n",
       " 0.74: 38.0,\n",
       " 0.78: 38.4,\n",
       " 0.82: 38.9,\n",
       " 0.86: 39.2,\n",
       " 0.9: 39.4777,\n",
       " 0.95: 39.8,\n",
       " 0.99: 40.0,\n",
       " 0.999: 40.1,\n",
       " 0.9999: 40.1}"
      ]
     },
     "execution_count": 11,
     "metadata": {},
     "output_type": "execute_result"
    }
   ],
   "source": [
    "perc_res_a"
   ]
  },
  {
   "cell_type": "code",
   "execution_count": 12,
   "metadata": {},
   "outputs": [
    {
     "data": {
      "text/plain": [
       "{0.7: 37.553599999999996,\n",
       " 0.74: 38.07952,\n",
       " 0.78: 38.5,\n",
       " 0.82: 39.03136,\n",
       " 0.86: 39.4,\n",
       " 0.9: 39.7,\n",
       " 0.95: 40.0,\n",
       " 0.99: 40.3,\n",
       " 0.999: 40.3,\n",
       " 0.9999: 40.3}"
      ]
     },
     "execution_count": 12,
     "metadata": {},
     "output_type": "execute_result"
    }
   ],
   "source": [
    "perc_res_b"
   ]
  },
  {
   "cell_type": "code",
   "execution_count": 13,
   "metadata": {},
   "outputs": [],
   "source": [
    "def get_ci_bootstrap(b_metrics:np.array, pe_metric: float, alpha: float=0.05):\n",
    "    '''Ф-я для оценки доверит интервала для квантиля\n",
    "    \n",
    "    input:\n",
    "    b_metrics - значение метрики, полученные с помощью бутстрепа\n",
    "    pe_metric - точечная оценка метрики\n",
    "    alpha - уровень значимости\n",
    "\n",
    "    output:\n",
    "    ci_left, ci_right границы доверит интервала\n",
    "    '''\n",
    "\n",
    "    z = norm.ppf(1-alpha/2)\n",
    "    se = np.std(b_metrics)\n",
    "    ci_left, ci_right = pe_metric - z * se, pe_metric + z * se\n",
    "\n",
    "    return ci_left, ci_right"
   ]
  },
  {
   "cell_type": "code",
   "execution_count": 14,
   "metadata": {},
   "outputs": [],
   "source": [
    "n = 2000\n",
    "alpha = 0.05\n",
    "values_a = control['load_time'].values\n",
    "values_b = treatment['load_time'].values\n",
    "quantiles_arr = np.array(list_perc)\n"
   ]
  },
  {
   "cell_type": "code",
   "execution_count": 15,
   "metadata": {},
   "outputs": [],
   "source": [
    "results = []\n",
    "\n",
    "for q in quantiles_arr:\n",
    "    pe = np.quantile(values_b, q) - np.quantile(values_a, q)\n",
    "    bootstrap_values_a = np.random.choice(values_a, (n, len(values_a)), True)\n",
    "    bootstrap_metrics_a = np.quantile(bootstrap_values_a, q, axis=1)\n",
    "    bootstrap_values_b = np.random.choice(values_b, (n, len(values_b)), True)\n",
    "    bootstrap_metrics_b = np.quantile(bootstrap_values_b, q, axis=1)\n",
    "    stats_btsrp = bootstrap_metrics_b - bootstrap_metrics_a\n",
    "    ci_left, ci_right = get_ci_bootstrap(stats_btsrp, pe, alpha)\n",
    "    results.append({\n",
    "    'quantile':q,\n",
    "    'ci_left':ci_left,\n",
    "    'ci_right':ci_right,\n",
    "    'significant':not (ci_left < 0 < ci_right)\n",
    "    })"
   ]
  },
  {
   "cell_type": "code",
   "execution_count": 16,
   "metadata": {},
   "outputs": [
    {
     "data": {
      "text/html": [
       "<div>\n",
       "<style scoped>\n",
       "    .dataframe tbody tr th:only-of-type {\n",
       "        vertical-align: middle;\n",
       "    }\n",
       "\n",
       "    .dataframe tbody tr th {\n",
       "        vertical-align: top;\n",
       "    }\n",
       "\n",
       "    .dataframe thead th {\n",
       "        text-align: right;\n",
       "    }\n",
       "</style>\n",
       "<table border=\"1\" class=\"dataframe\">\n",
       "  <thead>\n",
       "    <tr style=\"text-align: right;\">\n",
       "      <th></th>\n",
       "      <th>quantile</th>\n",
       "      <th>ci_left</th>\n",
       "      <th>ci_right</th>\n",
       "      <th>significant</th>\n",
       "    </tr>\n",
       "  </thead>\n",
       "  <tbody>\n",
       "    <tr>\n",
       "      <th>0</th>\n",
       "      <td>0.7000</td>\n",
       "      <td>-0.382516</td>\n",
       "      <td>0.182516</td>\n",
       "      <td>False</td>\n",
       "    </tr>\n",
       "    <tr>\n",
       "      <th>1</th>\n",
       "      <td>0.7400</td>\n",
       "      <td>-0.375127</td>\n",
       "      <td>0.175127</td>\n",
       "      <td>False</td>\n",
       "    </tr>\n",
       "    <tr>\n",
       "      <th>2</th>\n",
       "      <td>0.7800</td>\n",
       "      <td>-0.378688</td>\n",
       "      <td>0.178688</td>\n",
       "      <td>False</td>\n",
       "    </tr>\n",
       "    <tr>\n",
       "      <th>3</th>\n",
       "      <td>0.8200</td>\n",
       "      <td>-0.294740</td>\n",
       "      <td>0.294740</td>\n",
       "      <td>False</td>\n",
       "    </tr>\n",
       "    <tr>\n",
       "      <th>4</th>\n",
       "      <td>0.8600</td>\n",
       "      <td>-0.312114</td>\n",
       "      <td>0.312114</td>\n",
       "      <td>False</td>\n",
       "    </tr>\n",
       "    <tr>\n",
       "      <th>5</th>\n",
       "      <td>0.9000</td>\n",
       "      <td>-0.313314</td>\n",
       "      <td>0.313314</td>\n",
       "      <td>False</td>\n",
       "    </tr>\n",
       "    <tr>\n",
       "      <th>6</th>\n",
       "      <td>0.9500</td>\n",
       "      <td>-0.637112</td>\n",
       "      <td>0.167112</td>\n",
       "      <td>False</td>\n",
       "    </tr>\n",
       "    <tr>\n",
       "      <th>7</th>\n",
       "      <td>0.9900</td>\n",
       "      <td>-0.613417</td>\n",
       "      <td>1.213417</td>\n",
       "      <td>False</td>\n",
       "    </tr>\n",
       "    <tr>\n",
       "      <th>8</th>\n",
       "      <td>0.9990</td>\n",
       "      <td>-1169.970289</td>\n",
       "      <td>1873.528689</td>\n",
       "      <td>False</td>\n",
       "    </tr>\n",
       "    <tr>\n",
       "      <th>9</th>\n",
       "      <td>0.9999</td>\n",
       "      <td>-479.384746</td>\n",
       "      <td>240.072386</td>\n",
       "      <td>False</td>\n",
       "    </tr>\n",
       "  </tbody>\n",
       "</table>\n",
       "</div>"
      ],
      "text/plain": [
       "   quantile      ci_left     ci_right  significant\n",
       "0    0.7000    -0.382516     0.182516        False\n",
       "1    0.7400    -0.375127     0.175127        False\n",
       "2    0.7800    -0.378688     0.178688        False\n",
       "3    0.8200    -0.294740     0.294740        False\n",
       "4    0.8600    -0.312114     0.312114        False\n",
       "5    0.9000    -0.313314     0.313314        False\n",
       "6    0.9500    -0.637112     0.167112        False\n",
       "7    0.9900    -0.613417     1.213417        False\n",
       "8    0.9990 -1169.970289  1873.528689        False\n",
       "9    0.9999  -479.384746   240.072386        False"
      ]
     },
     "execution_count": 16,
     "metadata": {},
     "output_type": "execute_result"
    }
   ],
   "source": [
    "pd.DataFrame(results)"
   ]
  },
  {
   "cell_type": "markdown",
   "metadata": {},
   "source": [
    "### Задача 2. Функция оценки эксперимента с помощью bootstrap\n",
    "\n",
    "Реализуйте функцию `run_bootstrap`.\n",
    "\n",
    "Обратите внимание, что на вход функции подаются не исходные значения метрики, а множество значений статистики теста, посчитанные на бутстрепных выборках. Это позволит нам детерминировано протестировать правильноcть решения. Самостоятельно бутстрепить данные внутри функции run_bootstrap не нужно.\n",
    "\n",
    "Пример реализации функции для вычисления bootstrap_metrics\n"
   ]
  },
  {
   "cell_type": "code",
   "execution_count": 17,
   "metadata": {},
   "outputs": [],
   "source": [
    "def generate_bootstrap_metrics(data_one, data_two, bootstrap_iter, bootstrap_agg_func):\n",
    "    \"\"\"Генерирует значения метрики, полученные с помощью бутстрепа.\n",
    "\n",
    "    :param data_one, data_two (np.array): значения метрик в группах.\n",
    "    :param design (Design): объект с данными, описывающий параметры эксперимента\n",
    "    :param bootstrap_iter (int): количество итераций бутстрепа.\n",
    "    :param bootstrap_agg_func (str): метрика эксперимента.\n",
    "        Возможные значения ['mean', 'quantile 95'].\n",
    "    :return bootstrap_metrics, pe_metric:\n",
    "        bootstrap_metrics (np.array) - множество значений статистики теста,\n",
    "            посчитанные на бутстрепных выборках.\n",
    "        pe_metric (float) - значение статистики теста посчитанное по исходным данным.\n",
    "    \"\"\"\n",
    "    bootstrap_data_one = np.random.choice(data_one, (len(data_one), bootstrap_iter))\n",
    "    bootstrap_data_two = np.random.choice(data_two, (len(data_two), bootstrap_iter))\n",
    "    if bootstrap_agg_func == 'mean':\n",
    "        bootstrap_metrics = (\n",
    "            bootstrap_data_two.mean(axis=0) - bootstrap_data_one.mean(axis=0)\n",
    "        )\n",
    "        pe_metric = data_two.mean() - data_one.mean()\n",
    "        return bootstrap_metrics, pe_metric\n",
    "    elif bootstrap_agg_func == 'quantile 95':\n",
    "        q = 0.95\n",
    "        bootstrap_metrics = (\n",
    "            np.quantile(bootstrap_data_two, q, axis=0)\n",
    "            - np.quantile(bootstrap_data_one, q, axis=0)\n",
    "        )\n",
    "        pe_metric = np.quantile(data_two, q) - np.quantile(data_one, q)\n",
    "        return bootstrap_metrics, pe_metric\n",
    "    else:\n",
    "        raise ValueError('Неверное значение bootstrap_agg_func')"
   ]
  },
  {
   "cell_type": "code",
   "execution_count": 21,
   "metadata": {},
   "outputs": [],
   "source": [
    "import numpy as np\n",
    "from scipy import stats\n",
    "\n",
    "\n",
    "def run_bootstrap(bootstrap_metrics, pe_metric, alpha, bootstrap_ci_type):\n",
    "    \"\"\"Строит доверительный интервал и проверяет значимость отличий с помощью бутстрепа.\n",
    "    \n",
    "    :param bootstrap_metrics (np.array): множество значений статистики теста,\n",
    "        посчитанные на бутстрепных выборках.\n",
    "    :param pe_metric (float): значение статистики теста посчитанное по исходным данным.\n",
    "    :param alpha (float): уровень значимости.\n",
    "    :param bootstrap_ci_type (str): способ построения доверительного интервала.\n",
    "        Возможные значения ['normal', 'percentile', 'pivotal'].\n",
    "    :return ci, pvalue:\n",
    "        ci [float, float] - границы доверительного интервала.\n",
    "        pvalue (float) - 0 если есть статистически значимые отличия, иначе 1. Настоящее\n",
    "        pvalue для произвольного способа построения доверительного интервала с помощью\n",
    "        бутстрепа вычислить не тривиально. Будем использовать краевые значения 0 и 1.\n",
    "    \"\"\"\n",
    "    \n",
    "    if bootstrap_ci_type == 'normal':\n",
    "        z = norm.ppf(1-alpha/2)\n",
    "        se = np.std(bootstrap_metrics)\n",
    "        ci_left, ci_right = pe_metric - z * se, pe_metric + z * se\n",
    "    \n",
    "    elif bootstrap_ci_type == 'percentile':\n",
    "        ci_left, ci_right = np.quantile(bootstrap_metrics, [alpha / 2, 1 - alpha / 2])\n",
    "\n",
    "    elif bootstrap_ci_type == 'pivotal':\n",
    "        ci_left, ci_right = 2 * pe_metric - np.quantile(bootstrap_metrics, [1 - alpha / 2, alpha / 2])\n",
    "    else:\n",
    "        raise ValueError('Неверное значение bootstrap_ci_type')\n",
    "        \n",
    "    if not (ci_left < 0 < ci_right):\n",
    "        pvalue = float(0)\n",
    "    else:\n",
    "        pvalue = float(1)\n",
    "    return [ci_left, ci_right], pvalue\n",
    "\n",
    "        "
   ]
  },
  {
   "cell_type": "code",
   "execution_count": 22,
   "metadata": {},
   "outputs": [
    {
     "name": "stdout",
     "output_type": "stream",
     "text": [
      "[4. 2. 4. 5. 5. 5. 5. 3. 5. 5.]\n",
      "4.0\n"
     ]
    },
    {
     "data": {
      "text/plain": [
       "([2.030260573349595, 5.9697394266504045], 0.0)"
      ]
     },
     "execution_count": 22,
     "metadata": {},
     "output_type": "execute_result"
    }
   ],
   "source": [
    "#Тестовый пример 1\n",
    "data_one, data_two = np.array([1, 3]), np.array([5, 7])\n",
    "bootstrap_iter = 10\n",
    "bootstrap_agg_func = 'mean'\n",
    "bootstrap_metrics, pe_metric = generate_bootstrap_metrics(\n",
    "    data_one, data_two, bootstrap_iter, bootstrap_agg_func\n",
    ")\n",
    "\n",
    "\n",
    "print(bootstrap_metrics)\n",
    "print(pe_metric)\n",
    "\n",
    "run_bootstrap(bootstrap_metrics, pe_metric, alpha=0.05, bootstrap_ci_type='normal')"
   ]
  },
  {
   "cell_type": "code",
   "execution_count": 23,
   "metadata": {},
   "outputs": [
    {
     "name": "stdout",
     "output_type": "stream",
     "text": [
      "normal\n",
      "ci = [  34. 1166.], pvalue = 0.0\n",
      "percentile\n",
      "ci = [-65. 884.], pvalue = 1.0\n",
      "pivotal\n",
      "ci = [ 316. 1265.], pvalue = 0.0\n"
     ]
    }
   ],
   "source": [
    "#Тестовый пример 2\n",
    "bootstrap_metrics = np.arange(-90, 910)\n",
    "pe_metric = 600.\n",
    "alpha = 0.05\n",
    "bootstrap_ci_types = ['normal', 'percentile', 'pivotal']\n",
    "for bootstrap_ci_type in bootstrap_ci_types:\n",
    "    ci, pvalue = run_bootstrap(bootstrap_metrics, pe_metric, alpha, bootstrap_ci_type)\n",
    "    print(bootstrap_ci_type)\n",
    "    print(f'ci = {np.array(ci).round()}, pvalue = {pvalue}')"
   ]
  },
  {
   "cell_type": "code",
   "execution_count": null,
   "metadata": {},
   "outputs": [],
   "source": []
  }
 ],
 "metadata": {
  "kernelspec": {
   "display_name": "analytics_dags",
   "language": "python",
   "name": "python3"
  },
  "language_info": {
   "codemirror_mode": {
    "name": "ipython",
    "version": 3
   },
   "file_extension": ".py",
   "mimetype": "text/x-python",
   "name": "python",
   "nbconvert_exporter": "python",
   "pygments_lexer": "ipython3",
   "version": "3.9.19"
  }
 },
 "nbformat": 4,
 "nbformat_minor": 2
}
