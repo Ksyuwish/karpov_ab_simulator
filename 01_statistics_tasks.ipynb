{
 "cells": [
  {
   "cell_type": "code",
   "execution_count": 2,
   "metadata": {},
   "outputs": [],
   "source": [
    "import pandas as pd\n",
    "import numpy as np\n",
    "from scipy import stats"
   ]
  },
  {
   "cell_type": "markdown",
   "metadata": {},
   "source": [
    "**Задача 1. Оценка вероятностей**\n",
    "\n",
    "40% заказов имеют стоимость больше 1000 рублей каждый. Допустим, новый заказ стоит больше 1000 рублей с вероятностью 0.4. Оцените вероятность того, что из 100 новых заказов 50 или более стоят дороже 1000 рублей.\n",
    "\n",
    "Ответ округлите с точность до 3 знака после точки.\n",
    "\n"
   ]
  },
  {
   "cell_type": "markdown",
   "metadata": {},
   "source": [
    "***Решение***\n",
    "\n",
    "Используем распределение Бернулли, т.к идет речь идет о вероятности наступления события. Если считать, что каждый заказ независим от других,можно смоделировать данное событие с помощью биномиального распределения.\n"
   ]
  },
  {
   "cell_type": "code",
   "execution_count": 23,
   "metadata": {},
   "outputs": [
    {
     "name": "stdout",
     "output_type": "stream",
     "text": [
      "Вер-ть P(X) >= 50:  0.026\n"
     ]
    }
   ],
   "source": [
    "#Вариант решения 1\n",
    "\n",
    "n = 100\n",
    "p = 0.4\n",
    "n_new = 50 #порог кол-ва заказов\n",
    "\n",
    "mu = n * p\n",
    "sigma = (n * p * (1-p)) ** 0.5\n",
    "\n",
    "#0.5 - поправка на непрерывность-применяется, когда мы приближаем биномиальное распределение (дискретное) \n",
    "# нормальным распределением (непрерывным)\n",
    "z = (n_new - mu - 0.5)/sigma\n",
    "#z - стандартная нормальная случ величина\n",
    "print('Вер-ть P(X) >= 50: ', round(1-stats.norm.cdf(z),3)) "
   ]
  },
  {
   "cell_type": "code",
   "execution_count": 24,
   "metadata": {},
   "outputs": [
    {
     "name": "stdout",
     "output_type": "stream",
     "text": [
      "Вер-ть P(X) >= 50:  0.027\n"
     ]
    }
   ],
   "source": [
    "#Вариант решения 2\n",
    "\n",
    "# Cгенерируем достаточно большое количество исходов\n",
    "values = np.random.binomial(100, 0.4, size=1000000)\n",
    "# Оценим вероятность того, что 50 или более заказов стоят дороже 1000\n",
    "answer = (values >= 50).mean()\n",
    "print('Вер-ть P(X) >= 50: ', round(answer, 3))"
   ]
  },
  {
   "cell_type": "markdown",
   "metadata": {},
   "source": [
    "**Задача 2. Популярные товары**\n",
    "\n",
    " Определите топ-3 товара по суммарной выручке. Для решения используйте данные из файла `2022-04-01/2022-04-01T12_df_sales_detail.csv`."
   ]
  },
  {
   "cell_type": "code",
   "execution_count": 29,
   "metadata": {},
   "outputs": [
    {
     "data": {
      "text/html": [
       "<div>\n",
       "<style scoped>\n",
       "    .dataframe tbody tr th:only-of-type {\n",
       "        vertical-align: middle;\n",
       "    }\n",
       "\n",
       "    .dataframe tbody tr th {\n",
       "        vertical-align: top;\n",
       "    }\n",
       "\n",
       "    .dataframe thead th {\n",
       "        text-align: right;\n",
       "    }\n",
       "</style>\n",
       "<table border=\"1\" class=\"dataframe\">\n",
       "  <thead>\n",
       "    <tr style=\"text-align: right;\">\n",
       "      <th></th>\n",
       "      <th>good</th>\n",
       "      <th>revenue</th>\n",
       "    </tr>\n",
       "  </thead>\n",
       "  <tbody>\n",
       "    <tr>\n",
       "      <th>3</th>\n",
       "      <td>chefs pizza</td>\n",
       "      <td>24558240</td>\n",
       "    </tr>\n",
       "    <tr>\n",
       "      <th>6</th>\n",
       "      <td>double pepperoni pizza</td>\n",
       "      <td>22558380</td>\n",
       "    </tr>\n",
       "    <tr>\n",
       "      <th>5</th>\n",
       "      <td>chicken bbq pizza</td>\n",
       "      <td>17622540</td>\n",
       "    </tr>\n",
       "  </tbody>\n",
       "</table>\n",
       "</div>"
      ],
      "text/plain": [
       "                     good   revenue\n",
       "3             chefs pizza  24558240\n",
       "6  double pepperoni pizza  22558380\n",
       "5       chicken bbq pizza  17622540"
      ]
     },
     "execution_count": 29,
     "metadata": {},
     "output_type": "execute_result"
    }
   ],
   "source": [
    "df = pd.read_csv('./2022-04-01T12_df_sales_detail.csv')\n",
    "\n",
    "df.groupby('good').agg(revenue=('price', 'sum')).reset_index().sort_values(by='revenue', ascending=False).head(3)"
   ]
  },
  {
   "cell_type": "markdown",
   "metadata": {},
   "source": [
    "**Задача 3. Время от захода на сайт до покупки**\n",
    "  \n",
    "\n",
    "Оцените средний срок, который проходит от захода пользователя на сайт до совершения покупки. Будем считать, что заход на сайт относится к покупке, если он был совершён не ранее, чем за два часа до совершения покупки. Другими словами, для каждой покупки нужно посчитать время, которое проходит от покупки до первого захода на сайт того же пользователя в течение двух часов перед покупкой. И от полученных значений времени посчитать среднее.\n",
    "\n",
    "Для решения используйте данные из файлов `2022-04-01T12_df_sales.csv` и `2022-04-01T12_df_web_logs.csv`.\n",
    "\n",
    "Полученный результат переведите в минуты и округлите до целого значения.\n",
    "\n",
    "Описание статусов логов:\n",
    "\n",
    "m - страница с меню;\n",
    "b - страница с корзиной и потдверждением заказа;\n",
    "p - страница с оплатой заказа;"
   ]
  },
  {
   "cell_type": "code",
   "execution_count": 32,
   "metadata": {},
   "outputs": [
    {
     "data": {
      "text/html": [
       "<div>\n",
       "<style scoped>\n",
       "    .dataframe tbody tr th:only-of-type {\n",
       "        vertical-align: middle;\n",
       "    }\n",
       "\n",
       "    .dataframe tbody tr th {\n",
       "        vertical-align: top;\n",
       "    }\n",
       "\n",
       "    .dataframe thead th {\n",
       "        text-align: right;\n",
       "    }\n",
       "</style>\n",
       "<table border=\"1\" class=\"dataframe\">\n",
       "  <thead>\n",
       "    <tr style=\"text-align: right;\">\n",
       "      <th></th>\n",
       "      <th>sale_id</th>\n",
       "      <th>date</th>\n",
       "      <th>count_pizza</th>\n",
       "      <th>count_drink</th>\n",
       "      <th>price</th>\n",
       "      <th>user_id</th>\n",
       "    </tr>\n",
       "  </thead>\n",
       "  <tbody>\n",
       "    <tr>\n",
       "      <th>141137</th>\n",
       "      <td>1141138</td>\n",
       "      <td>2022-03-14 16:29:14</td>\n",
       "      <td>1</td>\n",
       "      <td>1</td>\n",
       "      <td>930</td>\n",
       "      <td>c3052e</td>\n",
       "    </tr>\n",
       "    <tr>\n",
       "      <th>47681</th>\n",
       "      <td>1047682</td>\n",
       "      <td>2022-02-17 11:49:12</td>\n",
       "      <td>1</td>\n",
       "      <td>0</td>\n",
       "      <td>720</td>\n",
       "      <td>c08dfb</td>\n",
       "    </tr>\n",
       "    <tr>\n",
       "      <th>37058</th>\n",
       "      <td>1037059</td>\n",
       "      <td>2022-02-13 19:27:01</td>\n",
       "      <td>1</td>\n",
       "      <td>0</td>\n",
       "      <td>600</td>\n",
       "      <td>ffff8f</td>\n",
       "    </tr>\n",
       "  </tbody>\n",
       "</table>\n",
       "</div>"
      ],
      "text/plain": [
       "        sale_id                 date  count_pizza  count_drink  price user_id\n",
       "141137  1141138  2022-03-14 16:29:14            1            1    930  c3052e\n",
       "47681   1047682  2022-02-17 11:49:12            1            0    720  c08dfb\n",
       "37058   1037059  2022-02-13 19:27:01            1            0    600  ffff8f"
      ]
     },
     "metadata": {},
     "output_type": "display_data"
    },
    {
     "name": "stdout",
     "output_type": "stream",
     "text": [
      "*******\n"
     ]
    },
    {
     "data": {
      "text/html": [
       "<div>\n",
       "<style scoped>\n",
       "    .dataframe tbody tr th:only-of-type {\n",
       "        vertical-align: middle;\n",
       "    }\n",
       "\n",
       "    .dataframe tbody tr th {\n",
       "        vertical-align: top;\n",
       "    }\n",
       "\n",
       "    .dataframe thead th {\n",
       "        text-align: right;\n",
       "    }\n",
       "</style>\n",
       "<table border=\"1\" class=\"dataframe\">\n",
       "  <thead>\n",
       "    <tr style=\"text-align: right;\">\n",
       "      <th></th>\n",
       "      <th>user_id</th>\n",
       "      <th>page</th>\n",
       "      <th>date</th>\n",
       "      <th>load_time</th>\n",
       "    </tr>\n",
       "  </thead>\n",
       "  <tbody>\n",
       "    <tr>\n",
       "      <th>698480</th>\n",
       "      <td>8f72ed</td>\n",
       "      <td>m</td>\n",
       "      <td>2022-02-23 18:58:11</td>\n",
       "      <td>74.4</td>\n",
       "    </tr>\n",
       "    <tr>\n",
       "      <th>1375445</th>\n",
       "      <td>560c37</td>\n",
       "      <td>m</td>\n",
       "      <td>2022-03-15 08:23:22</td>\n",
       "      <td>62.2</td>\n",
       "    </tr>\n",
       "    <tr>\n",
       "      <th>428773</th>\n",
       "      <td>78fc29</td>\n",
       "      <td>m</td>\n",
       "      <td>2022-02-16 11:48:40</td>\n",
       "      <td>76.1</td>\n",
       "    </tr>\n",
       "  </tbody>\n",
       "</table>\n",
       "</div>"
      ],
      "text/plain": [
       "        user_id page                 date  load_time\n",
       "698480   8f72ed    m  2022-02-23 18:58:11       74.4\n",
       "1375445  560c37    m  2022-03-15 08:23:22       62.2\n",
       "428773   78fc29    m  2022-02-16 11:48:40       76.1"
      ]
     },
     "metadata": {},
     "output_type": "display_data"
    }
   ],
   "source": [
    "df_sales = pd.read_csv('2022-04-01T12_df_sales.csv')\n",
    "df_web_logs = pd.read_csv('2022-04-01T12_df_web_logs.csv')\n",
    "\n",
    "display(df_sales.sample(3))\n",
    "print('*******')\n",
    "display(df_web_logs.sample(3))"
   ]
  },
  {
   "cell_type": "code",
   "execution_count": 43,
   "metadata": {},
   "outputs": [],
   "source": [
    "df_sales['date'] = pd.to_datetime(df_sales['date'])\n",
    "df_sales['dt'] = df_sales['date'].dt.date\n",
    "\n",
    "df_web_logs['date'] = pd.to_datetime(df_web_logs['date'])\n",
    "df_web_logs['dt'] = pd.to_datetime(df_web_logs['date']).dt.date"
   ]
  },
  {
   "cell_type": "code",
   "execution_count": 49,
   "metadata": {},
   "outputs": [
    {
     "data": {
      "text/plain": [
       "(1628116, 10)"
      ]
     },
     "execution_count": 49,
     "metadata": {},
     "output_type": "execute_result"
    }
   ],
   "source": [
    "df_uni = df_sales.merge(df_web_logs, on=['dt', 'user_id'], suffixes=['_sales', '_logs'])\n",
    "df_uni.shape"
   ]
  },
  {
   "cell_type": "code",
   "execution_count": 51,
   "metadata": {},
   "outputs": [],
   "source": [
    "df_uni['diff_datetime'] = (df_uni['date_sales']-df_uni['date_logs']).dt.total_seconds() / 3600\n",
    "#оставляем только строки, где разница между покупкой и заходом на сайт меньше 2 часов\n",
    "df_uni = df_uni[df_uni['diff_datetime']<=2]\n",
    "#находим минимальную дату входа для каждого заказа\n",
    "min_datetime_enter_df = df_uni.groupby(['sale_id', 'date_sales']).agg(min_datetime_enterance = ('date_logs', 'min')).reset_index()"
   ]
  },
  {
   "cell_type": "code",
   "execution_count": 57,
   "metadata": {},
   "outputs": [
    {
     "name": "stdout",
     "output_type": "stream",
     "text": [
      "Сколько в среднем проходит времени от захода на сайт до покупки:  17\n"
     ]
    }
   ],
   "source": [
    "print('Сколько в среднем проходит времени от захода на сайт до покупки: ',\n",
    "       round(((min_datetime_enter_df['date_sales']-min_datetime_enter_df['min_datetime_enterance']).dt.total_seconds() / 60).mean()))"
   ]
  },
  {
   "cell_type": "markdown",
   "metadata": {},
   "source": [
    "**Задача 4. Знакомство с задачами на код**\n",
    "  \n",
    "\n",
    "В заданиях на код вам нужно отправить в систему проверки код с решением. Шаблон для решения будет предоставлен в описании задания. Проверка решения запускается в докер-контейнере, в котором доступны следующие версии библиотек:\n",
    "\n",
    "`numpy=1.19.5`\n",
    "`pandas==1.2.3`\n",
    "`scipy==1.5.4`\n",
    "\n",
    "После окончания проверки отобразятся количество набранных баллов и список пройденных проверок. Если при проверке возникла ошибка, то будет выведено её описание.\n",
    "\n",
    "Напишите функцию sum_two_values. Описание функции есть в шаблоне решения ниже. Скопируйте код шаблона в окно ввода решения, допишите недостающие части, нажмите кнопку \"Отправить решение\".\n",
    "\n",
    "Шаблон решения\n",
    "\n",
    "`def sum_two_values(a, b):`\n",
    "    `\"\"\"Возвращает сумму чисел.\"\"\"`\n",
    "    `# YOUR_CODE_HERE`"
   ]
  },
  {
   "cell_type": "code",
   "execution_count": null,
   "metadata": {},
   "outputs": [],
   "source": [
    "def sum_two_values(a, b):\n",
    "    \"\"\"Возвращает сумму чисел.\"\"\"\n",
    "    c = a + b\n",
    "    return c"
   ]
  },
  {
   "cell_type": "markdown",
   "metadata": {},
   "source": [
    "**Задача 5. Функция для фильтрации данных**\n",
    "  \n",
    "\n",
    "Для оценки результатов экспериментов нам нужно выбрать данные, полученные во время эксперимента.\n",
    "\n",
    "Напишите функцию `get_data_subset`.\n",
    "\n"
   ]
  },
  {
   "cell_type": "raw",
   "metadata": {},
   "source": [
    "Шаблон решения\n",
    "\n",
    "from datetime import datetime\n",
    "\n",
    "import pandas as pd\n",
    "\n",
    "\n",
    "def get_data_subset(df, begin_date, end_date, user_ids=None, columns=None):\n",
    "    \"\"\"Возвращает подмножество данных.\n",
    "\n",
    "    :param df (pd.DataFrame): таблица с данными, обязательные столбцы: 'date', 'user_id'.\n",
    "    :param begin_date (datetime.datetime | None): дата начала интервала с данными.\n",
    "        Пример, df[df['date'] >= begin_date].\n",
    "        Если None, то фильтровать не нужно.\n",
    "    :param end_date (datetime.datetime | None): дата окончания интервала с данными.\n",
    "        Пример, df[df['date'] < end_date].\n",
    "        Если None, то фильтровать не нужно.\n",
    "    :param user_ids (list[str] | None): список user_id, по которым нужно предоставить данные.\n",
    "        Пример, df[df['user_id'].isin(user_ids)].\n",
    "        Если None, то фильтровать по user_id не нужно.\n",
    "    :param columns (list[str] | None): список названий столбцов, по которым нужно предоставить данные.\n",
    "        Пример, df[columns].\n",
    "        Если None, то фильтровать по columns не нужно.\n",
    "\n",
    "    :return df (pd.DataFrame): датафрейм с подмножеством данных.\n",
    "    \"\"\"\n",
    "    # YOUR_CODE_HERE\n",
    "\n",
    "\n",
    "Пример\n",
    "\n",
    "df = pd.DataFrame({\n",
    "    'date': [datetime(2022, 1, 5), datetime(2022, 1, 7)],\n",
    "    'user_id': ['1', '2'],\n",
    "})\n",
    "new_df = get_data_subset(df, datetime(2022, 1, 1), datetime(2022, 1, 6))\n",
    "# new_df = pd.DataFrame(\n",
    "#     'date': [datetime(2022, 1, 5)],\n",
    "#     'user_id': ['1'],\n",
    "# )"
   ]
  },
  {
   "cell_type": "code",
   "execution_count": 6,
   "metadata": {},
   "outputs": [],
   "source": [
    "from datetime import datetime\n",
    "\n",
    "import pandas as pd\n",
    "\n",
    "\n",
    "def get_data_subset(df, begin_date, end_date, user_ids=None, columns=None):\n",
    "    \"\"\"Возвращает подмножество данных.\n",
    "\n",
    "    :param df (pd.DataFrame): таблица с данными, обязательные столбцы: 'date', 'user_id'.\n",
    "    :param begin_date (datetime.datetime | None): дата начала интервала с данными.\n",
    "        Пример, df[df['date'] >= begin_date].\n",
    "        Если None, то фильтровать не нужно.\n",
    "    :param end_date (datetime.datetime | None): дата окончания интервала с данными.\n",
    "        Пример, df[df['date'] < end_date].\n",
    "        Если None, то фильтровать не нужно.\n",
    "    :param user_ids (list[str] | None): список user_id, по которым нужно предоставить данные.\n",
    "        Пример, df[df['user_id'].isin(user_ids)].\n",
    "        Если None, то фильтровать по user_id не нужно.\n",
    "    :param columns (list[str] | None): список названий столбцов, по которым нужно предоставить данные.\n",
    "        Пример, df[columns].\n",
    "        Если None, то фильтровать по columns не нужно.\n",
    "\n",
    "    :return df (pd.DataFrame): датафрейм с подмножеством данных.\n",
    "    \"\"\"\n",
    "    # YOUR_CODE_HERE\n",
    "    new_df = df.copy(deep=True)\n",
    "    \n",
    "    if begin_date is not None:\n",
    "        new_df = new_df[new_df['date']>=begin_date]\n",
    "\n",
    "    if end_date is not None:\n",
    "        new_df = new_df[new_df['date']<end_date]\n",
    "\n",
    "    if user_ids is not None:\n",
    "        new_df = new_df[new_df['user_id'].isin(user_ids)]\n",
    "\n",
    "    if columns is not None:\n",
    "        new_df = new_df[columns]\n",
    "\n",
    "    return new_df\n",
    "    "
   ]
  },
  {
   "cell_type": "code",
   "execution_count": 7,
   "metadata": {},
   "outputs": [],
   "source": [
    "df = pd.DataFrame({\n",
    "    'date': [datetime(2022, 1, 5), datetime(2022, 1, 7)],\n",
    "    'user_id': ['1', '2'],\n",
    "})\n",
    "new_df = get_data_subset(df, datetime(2022, 1, 1), datetime(2022, 1, 6))"
   ]
  },
  {
   "cell_type": "code",
   "execution_count": 8,
   "metadata": {},
   "outputs": [
    {
     "data": {
      "text/html": [
       "<div>\n",
       "<style scoped>\n",
       "    .dataframe tbody tr th:only-of-type {\n",
       "        vertical-align: middle;\n",
       "    }\n",
       "\n",
       "    .dataframe tbody tr th {\n",
       "        vertical-align: top;\n",
       "    }\n",
       "\n",
       "    .dataframe thead th {\n",
       "        text-align: right;\n",
       "    }\n",
       "</style>\n",
       "<table border=\"1\" class=\"dataframe\">\n",
       "  <thead>\n",
       "    <tr style=\"text-align: right;\">\n",
       "      <th></th>\n",
       "      <th>date</th>\n",
       "      <th>user_id</th>\n",
       "    </tr>\n",
       "  </thead>\n",
       "  <tbody>\n",
       "    <tr>\n",
       "      <th>0</th>\n",
       "      <td>2022-01-05</td>\n",
       "      <td>1</td>\n",
       "    </tr>\n",
       "  </tbody>\n",
       "</table>\n",
       "</div>"
      ],
      "text/plain": [
       "        date user_id\n",
       "0 2022-01-05       1"
      ]
     },
     "execution_count": 8,
     "metadata": {},
     "output_type": "execute_result"
    }
   ],
   "source": [
    "new_df"
   ]
  },
  {
   "cell_type": "code",
   "execution_count": 5,
   "metadata": {},
   "outputs": [
    {
     "data": {
      "text/html": [
       "<div>\n",
       "<style scoped>\n",
       "    .dataframe tbody tr th:only-of-type {\n",
       "        vertical-align: middle;\n",
       "    }\n",
       "\n",
       "    .dataframe tbody tr th {\n",
       "        vertical-align: top;\n",
       "    }\n",
       "\n",
       "    .dataframe thead th {\n",
       "        text-align: right;\n",
       "    }\n",
       "</style>\n",
       "<table border=\"1\" class=\"dataframe\">\n",
       "  <thead>\n",
       "    <tr style=\"text-align: right;\">\n",
       "      <th></th>\n",
       "      <th>date</th>\n",
       "      <th>user_id</th>\n",
       "    </tr>\n",
       "  </thead>\n",
       "  <tbody>\n",
       "    <tr>\n",
       "      <th>0</th>\n",
       "      <td>2022-01-05</td>\n",
       "      <td>1</td>\n",
       "    </tr>\n",
       "    <tr>\n",
       "      <th>1</th>\n",
       "      <td>2022-01-07</td>\n",
       "      <td>2</td>\n",
       "    </tr>\n",
       "  </tbody>\n",
       "</table>\n",
       "</div>"
      ],
      "text/plain": [
       "        date user_id\n",
       "0 2022-01-05       1\n",
       "1 2022-01-07       2"
      ]
     },
     "execution_count": 5,
     "metadata": {},
     "output_type": "execute_result"
    }
   ],
   "source": [
    "df"
   ]
  },
  {
   "cell_type": "markdown",
   "metadata": {},
   "source": [
    "**Задача 6. Функции вычисления метрик**\n",
    "\n",
    "Напишите функции get_response_time, get_revenue_web и get_revenue_all для вычисления метрик «revenue (web)», «revenue (all)» и «response time»."
   ]
  },
  {
   "cell_type": "code",
   "execution_count": 39,
   "metadata": {},
   "outputs": [],
   "source": [
    "import pandas as pd\n",
    "\n",
    "from datetime import datetime\n",
    "\n",
    "def get_data_subset(df, begin_date, end_date, user_ids=None, columns=None):\n",
    "    if begin_date:\n",
    "        df = df[df['date'] >= begin_date]\n",
    "    if end_date:\n",
    "        df = df[df['date'] < end_date]\n",
    "    if user_ids:\n",
    "        df = df[df['user_id'].isin(user_ids)]\n",
    "    if columns:\n",
    "        df = df[columns]\n",
    "    return df.copy()\n",
    "\n",
    "\n",
    "def get_response_time(df_web_logs, begin_date, end_date):\n",
    "    \"\"\"Вычисляет значения времени обработки запроса сервером.\n",
    "\n",
    "    Нужно вернуть значения user_id и load_time из таблицы df_web_logs,\n",
    "    отфильтрованные по дате.\n",
    "    Считаем, что запросы обрабатываются независимо, поэтому группировать\n",
    "    по user_id не нужно.\n",
    "\n",
    "    :param df_web_logs (pd.DataFrame): таблица с логами сайта, содержит\n",
    "    столбцы ['user_id', 'date', 'load_time'].\n",
    "    :param begin_date, end_date (datetime): границы периода для\n",
    "    фильтрации данных по дате. Левая граница входит, правая не входит.\n",
    "\n",
    "    :return (pd.DataFrame): датафрейм с двумя столбцами ['user_id', 'metric']\n",
    "    \"\"\"\n",
    "\n",
    "    new_df  = get_data_subset(df_web_logs, begin_date, end_date, None, ['user_id', 'load_time']).copy(deep=True)\n",
    "    new_df = new_df.rename(columns={'load_time':'metric'})\n",
    "\n",
    "    return new_df[['user_id', 'metric']]\n",
    "\n",
    "\n",
    "def get_revenue_web(df_sales, df_web_logs, begin_date, end_date):\n",
    "    \"\"\"Вычисляет значения выручки с пользователя за указанный период\n",
    "    для заходивших на сайт в указанный период.\n",
    "\n",
    "    Эти данные нужны для экспериментов на сайте, когда в эксперимент\n",
    "    попадают только те, кто заходил на сайт во время эксперимента.\n",
    "\n",
    "    Нужно вернуть значения user_id и выручки (sum(price)) за указанный\n",
    "    период для пользователей, заходивших на сайт в указанный период.\n",
    "    Если пользователь зашёл на сайт и ничего не купил, его суммарная\n",
    "    стоимость покупок равна нулю.\n",
    "    Для каждого user_id должно быть ровно одно значение.\n",
    "\n",
    "    :param df_sales (pd.DataFrame): таблица с продажами, содержит\n",
    "        столбцы ['user_id', 'date', 'price'].\n",
    "    :param df_web_logs (pd.DataFrame): таблица с логами сайта, содержит\n",
    "        столбцы ['user_id', 'date', 'load_time'].\n",
    "    :param begin_date, end_date (datetime): границы периода для фильтрации\n",
    "        данных по дате. Левая граница входит, правая не входит.\n",
    "\n",
    "    :return (pd.DataFrame): датафрейм с двумя столбцами ['user_id', 'metric']\n",
    "    \"\"\"\n",
    "    df_sales['date'] = pd.to_datetime(df_sales['date'])\n",
    "    df_sales['dt'] = df_sales['date'].dt.date\n",
    "\n",
    "    df_web_logs['date'] = pd.to_datetime(df_web_logs['date'])\n",
    "    df_web_logs['dt'] = pd.to_datetime(df_web_logs['date']).dt.date\n",
    "\n",
    "    df_web_logs = get_data_subset(df_web_logs, begin_date, end_date, None, ['dt', 'user_id']).drop_duplicates()\n",
    "    df_sales = get_data_subset(df_sales, begin_date, end_date, None, ['dt', 'user_id', 'price'])\n",
    "\n",
    "    df_uni = df_web_logs.merge(df_sales, on=['dt', 'user_id'], how='left')\n",
    "    df_uni['price'] = df_uni['price'].fillna(0)\n",
    "\n",
    "    df_metric = df_uni.groupby('user_id').agg(metric=('price', 'sum')).reset_index()\n",
    "\n",
    "    return df_metric\n",
    "\n",
    "    \n",
    "def get_revenue_all(df_sales, df_web_logs, begin_date, end_date):\n",
    "    \"\"\"Вычисляет значения выручки с пользователя за указанный период\n",
    "    для заходивших на сайт до end_date.\n",
    "\n",
    "    Эти данные нужны, например, для экспериментов с рассылкой по email,\n",
    "    когда в эксперимент попадают те, кто когда-либо оставил нам свои данные.\n",
    "\n",
    "    Нужно вернуть значения user_id и выручки (sum(price)) за указанный период\n",
    "    для пользователей, заходивших на сайт до end_date.\n",
    "    Если пользователь ничего не купил за указанный период, его суммарная\n",
    "    стоимость покупок равна нулю.\n",
    "    Для каждого user_id должно быть ровно одно значение.\n",
    "\n",
    "    :param df_sales (pd.DataFrame): таблица с продажами, содержит\n",
    "        столбцы ['user_id', 'date', 'price'].\n",
    "    :param df_web_logs (pd.DataFrame): таблица с логами сайта, содержит\n",
    "        столбцы ['user_id', 'date', 'load_time'].\n",
    "    :param begin_date, end_date (datetime): границы периода для фильтрации\n",
    "        данных по дате. Левая граница входит, правая не входит.\n",
    "\n",
    "    :return (pd.DataFrame): датафрейм с двумя столбцами ['user_id', 'metric']\n",
    "    \"\"\"\n",
    "    df_sales['date'] = pd.to_datetime(df_sales['date'])\n",
    "    df_sales['dt'] = df_sales['date'].dt.date\n",
    "\n",
    "    df_web_logs['date'] = pd.to_datetime(df_web_logs['date'])\n",
    "    df_web_logs['dt'] = pd.to_datetime(df_web_logs['date']).dt.date\n",
    "\n",
    "    df_web_logs = get_data_subset(df_web_logs, None, end_date, None, ['dt', 'user_id']).drop_duplicates()\n",
    "    df_sales = get_data_subset(df_sales, begin_date, end_date, None, ['dt', 'user_id', 'price'])\n",
    "\n",
    "    df_uni = df_web_logs.merge(df_sales, on=['dt', 'user_id'], how='left')\n",
    "    df_uni['price'] = df_uni['price'].fillna(0)\n",
    "\n",
    "    df_metric = df_uni.groupby('user_id').agg(metric=('price', 'sum')).reset_index()\n",
    "\n",
    "    return df_metric"
   ]
  },
  {
   "cell_type": "code",
   "execution_count": 40,
   "metadata": {},
   "outputs": [],
   "source": [
    "df_sales = pd.DataFrame({\n",
    "    'date': [datetime(2022, 3, day, 11) for day in range(11, 14)],\n",
    "    'price': [1100, 900, 1500],\n",
    "    'user_id': ['1', '2', '1'],\n",
    "})\n",
    "df_web_logs = pd.DataFrame({\n",
    "    'date': [datetime(2022, 3, day, 11) for day in range(10, 14)],\n",
    "    'load_time': [80.8, 90.1, 15.8, 19.7],\n",
    "    'user_id': ['3', '1', '2', '1'],\n",
    "})\n",
    "begin_date = datetime(2022, 3, 11, 9)\n",
    "end_date = datetime(2022, 4, 11, 9)"
   ]
  },
  {
   "cell_type": "code",
   "execution_count": 41,
   "metadata": {},
   "outputs": [],
   "source": [
    "####Проверка"
   ]
  },
  {
   "cell_type": "code",
   "execution_count": 42,
   "metadata": {},
   "outputs": [
    {
     "data": {
      "text/html": [
       "<div>\n",
       "<style scoped>\n",
       "    .dataframe tbody tr th:only-of-type {\n",
       "        vertical-align: middle;\n",
       "    }\n",
       "\n",
       "    .dataframe tbody tr th {\n",
       "        vertical-align: top;\n",
       "    }\n",
       "\n",
       "    .dataframe thead th {\n",
       "        text-align: right;\n",
       "    }\n",
       "</style>\n",
       "<table border=\"1\" class=\"dataframe\">\n",
       "  <thead>\n",
       "    <tr style=\"text-align: right;\">\n",
       "      <th></th>\n",
       "      <th>user_id</th>\n",
       "      <th>metric</th>\n",
       "    </tr>\n",
       "  </thead>\n",
       "  <tbody>\n",
       "    <tr>\n",
       "      <th>1</th>\n",
       "      <td>1</td>\n",
       "      <td>90.1</td>\n",
       "    </tr>\n",
       "    <tr>\n",
       "      <th>2</th>\n",
       "      <td>2</td>\n",
       "      <td>15.8</td>\n",
       "    </tr>\n",
       "    <tr>\n",
       "      <th>3</th>\n",
       "      <td>1</td>\n",
       "      <td>19.7</td>\n",
       "    </tr>\n",
       "  </tbody>\n",
       "</table>\n",
       "</div>"
      ],
      "text/plain": [
       "  user_id  metric\n",
       "1       1    90.1\n",
       "2       2    15.8\n",
       "3       1    19.7"
      ]
     },
     "execution_count": 42,
     "metadata": {},
     "output_type": "execute_result"
    }
   ],
   "source": [
    "response_time = get_response_time(df_web_logs, begin_date, end_date)\n",
    "# response_time = pd.DataFrame({'user_id': ['1', '2', '1'], 'metric': [90.1, 15.8, 19.7],})\n",
    "response_time"
   ]
  },
  {
   "cell_type": "code",
   "execution_count": 43,
   "metadata": {},
   "outputs": [
    {
     "data": {
      "text/html": [
       "<div>\n",
       "<style scoped>\n",
       "    .dataframe tbody tr th:only-of-type {\n",
       "        vertical-align: middle;\n",
       "    }\n",
       "\n",
       "    .dataframe tbody tr th {\n",
       "        vertical-align: top;\n",
       "    }\n",
       "\n",
       "    .dataframe thead th {\n",
       "        text-align: right;\n",
       "    }\n",
       "</style>\n",
       "<table border=\"1\" class=\"dataframe\">\n",
       "  <thead>\n",
       "    <tr style=\"text-align: right;\">\n",
       "      <th></th>\n",
       "      <th>user_id</th>\n",
       "      <th>metric</th>\n",
       "    </tr>\n",
       "  </thead>\n",
       "  <tbody>\n",
       "    <tr>\n",
       "      <th>0</th>\n",
       "      <td>1</td>\n",
       "      <td>2600</td>\n",
       "    </tr>\n",
       "    <tr>\n",
       "      <th>1</th>\n",
       "      <td>2</td>\n",
       "      <td>900</td>\n",
       "    </tr>\n",
       "  </tbody>\n",
       "</table>\n",
       "</div>"
      ],
      "text/plain": [
       "  user_id  metric\n",
       "0       1    2600\n",
       "1       2     900"
      ]
     },
     "execution_count": 43,
     "metadata": {},
     "output_type": "execute_result"
    }
   ],
   "source": [
    "revenue_web = get_revenue_web(df_sales, df_web_logs, begin_date, end_date)\n",
    "# revenue_web = pd.DataFrame({'user_id': ['1', '2'], 'metric': [2600, 900],})\n",
    "\n",
    "revenue_web"
   ]
  },
  {
   "cell_type": "code",
   "execution_count": 44,
   "metadata": {},
   "outputs": [
    {
     "data": {
      "text/html": [
       "<div>\n",
       "<style scoped>\n",
       "    .dataframe tbody tr th:only-of-type {\n",
       "        vertical-align: middle;\n",
       "    }\n",
       "\n",
       "    .dataframe tbody tr th {\n",
       "        vertical-align: top;\n",
       "    }\n",
       "\n",
       "    .dataframe thead th {\n",
       "        text-align: right;\n",
       "    }\n",
       "</style>\n",
       "<table border=\"1\" class=\"dataframe\">\n",
       "  <thead>\n",
       "    <tr style=\"text-align: right;\">\n",
       "      <th></th>\n",
       "      <th>user_id</th>\n",
       "      <th>metric</th>\n",
       "    </tr>\n",
       "  </thead>\n",
       "  <tbody>\n",
       "    <tr>\n",
       "      <th>0</th>\n",
       "      <td>1</td>\n",
       "      <td>2600.0</td>\n",
       "    </tr>\n",
       "    <tr>\n",
       "      <th>1</th>\n",
       "      <td>2</td>\n",
       "      <td>900.0</td>\n",
       "    </tr>\n",
       "    <tr>\n",
       "      <th>2</th>\n",
       "      <td>3</td>\n",
       "      <td>0.0</td>\n",
       "    </tr>\n",
       "  </tbody>\n",
       "</table>\n",
       "</div>"
      ],
      "text/plain": [
       "  user_id  metric\n",
       "0       1  2600.0\n",
       "1       2   900.0\n",
       "2       3     0.0"
      ]
     },
     "execution_count": 44,
     "metadata": {},
     "output_type": "execute_result"
    }
   ],
   "source": [
    "revenue_all = get_revenue_all(df_sales, df_web_logs, begin_date, end_date)\n",
    "# revenue_all = pd.DataFrame({'user_id': ['1', '2', '3'], 'metric': [2600, 900, 0],})\n",
    "revenue_all"
   ]
  },
  {
   "cell_type": "code",
   "execution_count": null,
   "metadata": {},
   "outputs": [],
   "source": []
  }
 ],
 "metadata": {
  "kernelspec": {
   "display_name": "eda",
   "language": "python",
   "name": "python3"
  },
  "language_info": {
   "codemirror_mode": {
    "name": "ipython",
    "version": 3
   },
   "file_extension": ".py",
   "mimetype": "text/x-python",
   "name": "python",
   "nbconvert_exporter": "python",
   "pygments_lexer": "ipython3",
   "version": "3.9.19"
  }
 },
 "nbformat": 4,
 "nbformat_minor": 2
}
