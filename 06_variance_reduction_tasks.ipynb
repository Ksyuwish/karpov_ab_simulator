{
 "cells": [
  {
   "cell_type": "markdown",
   "metadata": {},
   "source": [
    "### Задача 1. Сколько выбросов удалять\n",
    "  \n",
    "\n",
    "С одной стороны, при удалении выбросов снижается дисперсия, что приводит к увеличению чувствительности теста. С другой стороны, при удалении выбросов уменьшается размер выборки, что приводит к уменьшению чувствительности.\n",
    "\n",
    "Сравните мощности тестов с разной долей удаляемых данных. Используйте данные о времени работы бэкенда `2022-04-01T12_df_web_logs.csv` в период с 2022-03-01 по 2022-03-08. Уровень значимости — 0.05. Размеры групп — 1000 человек (размер выборок будет больше, так как на одного человека приходится много значений). Проверяем гипотезу о равенстве средних с помощью теста Стьюдента. Ожидаемый эффект — увеличение времени обработки на 1%. Эффект в синтетических А/В-тестах добавляем умножением на константу.\n",
    "\n",
    "В ответ введите номера вариантов, упорядоченные по уменьшению мощности. Например, «12345» означает, что вариант 1 обладает наибольшей мощностью, а вариант 5 — наименьшей.\n",
    "\n",
    "1. Удалить 0.02% выбросов;\n",
    "\n",
    "2. Удалить 0.2% выбросов;\n",
    "\n",
    "3. Удалить 2% выбросов;\n",
    "\n",
    "4. Удалить 10% выбросов;\n",
    "\n",
    "5. Удалить 20% выбросов.\n",
    "\n",
    "Удалить 2% выбросов означает, что нужно убрать по 1% минимальных и максимальных значений выборки. То есть оставить значения, которые лежат между `np.quantile(values, 0.01)` и `np.quantile(values, 0.99)`. Квантили вычислять для каждой групп отдельно."
   ]
  },
  {
   "cell_type": "code",
   "execution_count": 1,
   "metadata": {},
   "outputs": [],
   "source": [
    "import pandas as pd\n",
    "from datetime import datetime\n",
    "\n",
    "import numpy as np\n",
    "from scipy.stats import ttest_ind"
   ]
  },
  {
   "cell_type": "code",
   "execution_count": 2,
   "metadata": {},
   "outputs": [],
   "source": [
    "df_raw = pd.read_csv('./2022-04-01T12_df_web_logs.csv')"
   ]
  },
  {
   "cell_type": "code",
   "execution_count": 3,
   "metadata": {},
   "outputs": [
    {
     "data": {
      "text/html": [
       "<div>\n",
       "<style scoped>\n",
       "    .dataframe tbody tr th:only-of-type {\n",
       "        vertical-align: middle;\n",
       "    }\n",
       "\n",
       "    .dataframe tbody tr th {\n",
       "        vertical-align: top;\n",
       "    }\n",
       "\n",
       "    .dataframe thead th {\n",
       "        text-align: right;\n",
       "    }\n",
       "</style>\n",
       "<table border=\"1\" class=\"dataframe\">\n",
       "  <thead>\n",
       "    <tr style=\"text-align: right;\">\n",
       "      <th></th>\n",
       "      <th>user_id</th>\n",
       "      <th>page</th>\n",
       "      <th>date</th>\n",
       "      <th>load_time</th>\n",
       "    </tr>\n",
       "  </thead>\n",
       "  <tbody>\n",
       "    <tr>\n",
       "      <th>0</th>\n",
       "      <td>f25239</td>\n",
       "      <td>m</td>\n",
       "      <td>2022-02-03 23:45:37</td>\n",
       "      <td>80.8</td>\n",
       "    </tr>\n",
       "    <tr>\n",
       "      <th>1</th>\n",
       "      <td>06d6df</td>\n",
       "      <td>m</td>\n",
       "      <td>2022-02-03 23:49:56</td>\n",
       "      <td>70.5</td>\n",
       "    </tr>\n",
       "    <tr>\n",
       "      <th>2</th>\n",
       "      <td>06d6df</td>\n",
       "      <td>m</td>\n",
       "      <td>2022-02-03 23:51:16</td>\n",
       "      <td>89.7</td>\n",
       "    </tr>\n",
       "    <tr>\n",
       "      <th>3</th>\n",
       "      <td>f25239</td>\n",
       "      <td>m</td>\n",
       "      <td>2022-02-03 23:51:43</td>\n",
       "      <td>74.4</td>\n",
       "    </tr>\n",
       "    <tr>\n",
       "      <th>4</th>\n",
       "      <td>697870</td>\n",
       "      <td>m</td>\n",
       "      <td>2022-02-03 23:53:12</td>\n",
       "      <td>66.8</td>\n",
       "    </tr>\n",
       "  </tbody>\n",
       "</table>\n",
       "</div>"
      ],
      "text/plain": [
       "  user_id page                 date  load_time\n",
       "0  f25239    m  2022-02-03 23:45:37       80.8\n",
       "1  06d6df    m  2022-02-03 23:49:56       70.5\n",
       "2  06d6df    m  2022-02-03 23:51:16       89.7\n",
       "3  f25239    m  2022-02-03 23:51:43       74.4\n",
       "4  697870    m  2022-02-03 23:53:12       66.8"
      ]
     },
     "execution_count": 3,
     "metadata": {},
     "output_type": "execute_result"
    }
   ],
   "source": [
    "df_raw.head()"
   ]
  },
  {
   "cell_type": "code",
   "execution_count": 4,
   "metadata": {},
   "outputs": [],
   "source": [
    "df_raw['date'] = pd.to_datetime(df_raw['date'])\n",
    "df = df_raw[(df_raw['date']>=datetime(2022, 3, 1))&(df_raw['date']<datetime(2022, 3, 8))].copy(deep=True)\n",
    "users = df['user_id'].unique()"
   ]
  },
  {
   "cell_type": "code",
   "execution_count": 5,
   "metadata": {},
   "outputs": [],
   "source": [
    "alpha = 0.05\n",
    "sample_size = 1000\n",
    "effect = 0.01"
   ]
  },
  {
   "cell_type": "code",
   "execution_count": 6,
   "metadata": {},
   "outputs": [],
   "source": [
    "quantiles = {\n",
    "    '1':0.0001, #0.02%\n",
    "    '2':0.001,  #0.2%\n",
    "    '3':0.01,   #2%\n",
    "    '4':0.05,   #10%\n",
    "    '5':0.1     #20%\n",
    "}\n",
    "\n",
    "quantile2errors = {q: [] for q in quantiles.values()}"
   ]
  },
  {
   "cell_type": "code",
   "execution_count": 7,
   "metadata": {},
   "outputs": [],
   "source": [
    "for _ in range(1000):\n",
    "    a_users, b_users = np.random.choice(users, (2, sample_size), False)\n",
    "    a_values = df.loc[df['user_id'].isin(a_users), 'load_time'].values\n",
    "    b_values = df.loc[df['user_id'].isin(b_users), 'load_time'].values * (1 + effect)\n",
    "\n",
    "    for q in quantiles.values():\n",
    "        a_values_filt = a_values[(a_values > np.quantile(a_values, q))&(a_values < np.quantile(a_values, 1 - q))]\n",
    "        b_values_filt = b_values[(b_values > np.quantile(b_values, q))&(b_values < np.quantile(b_values, 1 - q))]\n",
    "\n",
    "        pvalue = ttest_ind(a_values_filt, b_values_filt).pvalue\n",
    "        quantile2errors[q].append(pvalue > alpha)\n"
   ]
  },
  {
   "cell_type": "code",
   "execution_count": 8,
   "metadata": {},
   "outputs": [
    {
     "name": "stdout",
     "output_type": "stream",
     "text": [
      "№ answ = 4, quantile = 0.05, power = 0.963, pvalue = 0.2566, оценка мощности значимо не отличается от предыдущей\n",
      "№ answ = 3, quantile = 0.01, power = 0.941, pvalue = 0.0214, оценка мощности значимо отличается от предыдущей\n",
      "№ answ = 2, quantile = 0.001, power = 0.318, pvalue = 0.0000, оценка мощности значимо отличается от предыдущей\n",
      "№ answ = 1, quantile = 0.0001, power = 0.074, pvalue = 0.0000, оценка мощности значимо отличается от предыдущей\n",
      "answ:  54321\n"
     ]
    }
   ],
   "source": [
    "def process_res(quantile2errors):\n",
    "    '''Обработка результатов, подсчет мощности'''\n",
    "    data = [(idx+1, quantile, np.mean(errors), errors)\n",
    "            for idx, (quantile, errors) in enumerate(quantile2errors.items())]\n",
    "    #сортировка по доле ошибок\n",
    "    data.sort(key=lambda x: x[2])\n",
    "\n",
    "    #проверка, что доля ошибок значимо отличается\n",
    "    for i in range(1, len(data)):\n",
    "        pvalue = ttest_ind(data[i][3], data[i-1][3]).pvalue\n",
    "        if pvalue < 0.05:\n",
    "            msg = f'pvalue = {pvalue:0.04f}, оценка мощности значимо отличается от предыдущей'\n",
    "        else:\n",
    "            msg = f'pvalue = {pvalue:0.04f}, оценка мощности значимо не отличается от предыдущей'\n",
    "        print(f'№ answ = {data[i][0]}, quantile = {data[i][1]}, power = {1-data[i][2]:0.3f}, {msg}')\n",
    "    print('answ: ', ''.join([str(x[0]) for x in data]))\n",
    "\n",
    "process_res(quantile2errors)"
   ]
  }
 ],
 "metadata": {
  "kernelspec": {
   "display_name": "eda",
   "language": "python",
   "name": "python3"
  },
  "language_info": {
   "codemirror_mode": {
    "name": "ipython",
    "version": 3
   },
   "file_extension": ".py",
   "mimetype": "text/x-python",
   "name": "python",
   "nbconvert_exporter": "python",
   "pygments_lexer": "ipython3",
   "version": "3.9.19"
  }
 },
 "nbformat": 4,
 "nbformat_minor": 2
}
