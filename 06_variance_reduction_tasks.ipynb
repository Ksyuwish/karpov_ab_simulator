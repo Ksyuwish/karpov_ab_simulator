{
 "cells": [
  {
   "cell_type": "markdown",
   "metadata": {},
   "source": [
    "### Задача 1. Сколько выбросов удалять\n",
    "  \n",
    "\n",
    "С одной стороны, при удалении выбросов снижается дисперсия, что приводит к увеличению чувствительности теста. С другой стороны, при удалении выбросов уменьшается размер выборки, что приводит к уменьшению чувствительности.\n",
    "\n",
    "Сравните мощности тестов с разной долей удаляемых данных. Используйте данные о времени работы бэкенда `2022-04-01T12_df_web_logs.csv` в период с 2022-03-01 по 2022-03-08. Уровень значимости — 0.05. Размеры групп — 1000 человек (размер выборок будет больше, так как на одного человека приходится много значений). Проверяем гипотезу о равенстве средних с помощью теста Стьюдента. Ожидаемый эффект — увеличение времени обработки на 1%. Эффект в синтетических А/В-тестах добавляем умножением на константу.\n",
    "\n",
    "В ответ введите номера вариантов, упорядоченные по уменьшению мощности. Например, «12345» означает, что вариант 1 обладает наибольшей мощностью, а вариант 5 — наименьшей.\n",
    "\n",
    "1. Удалить 0.02% выбросов;\n",
    "\n",
    "2. Удалить 0.2% выбросов;\n",
    "\n",
    "3. Удалить 2% выбросов;\n",
    "\n",
    "4. Удалить 10% выбросов;\n",
    "\n",
    "5. Удалить 20% выбросов.\n",
    "\n",
    "Удалить 2% выбросов означает, что нужно убрать по 1% минимальных и максимальных значений выборки. То есть оставить значения, которые лежат между `np.quantile(values, 0.01)` и `np.quantile(values, 0.99)`. Квантили вычислять для каждой групп отдельно."
   ]
  },
  {
   "cell_type": "code",
   "execution_count": 1,
   "metadata": {},
   "outputs": [],
   "source": [
    "import pandas as pd\n",
    "from datetime import datetime\n",
    "\n",
    "import numpy as np\n",
    "from scipy.stats import ttest_ind"
   ]
  },
  {
   "cell_type": "code",
   "execution_count": 2,
   "metadata": {},
   "outputs": [],
   "source": [
    "df_raw = pd.read_csv('./2022-04-01T12_df_web_logs.csv')"
   ]
  },
  {
   "cell_type": "code",
   "execution_count": 3,
   "metadata": {},
   "outputs": [
    {
     "data": {
      "text/html": [
       "<div>\n",
       "<style scoped>\n",
       "    .dataframe tbody tr th:only-of-type {\n",
       "        vertical-align: middle;\n",
       "    }\n",
       "\n",
       "    .dataframe tbody tr th {\n",
       "        vertical-align: top;\n",
       "    }\n",
       "\n",
       "    .dataframe thead th {\n",
       "        text-align: right;\n",
       "    }\n",
       "</style>\n",
       "<table border=\"1\" class=\"dataframe\">\n",
       "  <thead>\n",
       "    <tr style=\"text-align: right;\">\n",
       "      <th></th>\n",
       "      <th>user_id</th>\n",
       "      <th>page</th>\n",
       "      <th>date</th>\n",
       "      <th>load_time</th>\n",
       "    </tr>\n",
       "  </thead>\n",
       "  <tbody>\n",
       "    <tr>\n",
       "      <th>0</th>\n",
       "      <td>f25239</td>\n",
       "      <td>m</td>\n",
       "      <td>2022-02-03 23:45:37</td>\n",
       "      <td>80.8</td>\n",
       "    </tr>\n",
       "    <tr>\n",
       "      <th>1</th>\n",
       "      <td>06d6df</td>\n",
       "      <td>m</td>\n",
       "      <td>2022-02-03 23:49:56</td>\n",
       "      <td>70.5</td>\n",
       "    </tr>\n",
       "    <tr>\n",
       "      <th>2</th>\n",
       "      <td>06d6df</td>\n",
       "      <td>m</td>\n",
       "      <td>2022-02-03 23:51:16</td>\n",
       "      <td>89.7</td>\n",
       "    </tr>\n",
       "    <tr>\n",
       "      <th>3</th>\n",
       "      <td>f25239</td>\n",
       "      <td>m</td>\n",
       "      <td>2022-02-03 23:51:43</td>\n",
       "      <td>74.4</td>\n",
       "    </tr>\n",
       "    <tr>\n",
       "      <th>4</th>\n",
       "      <td>697870</td>\n",
       "      <td>m</td>\n",
       "      <td>2022-02-03 23:53:12</td>\n",
       "      <td>66.8</td>\n",
       "    </tr>\n",
       "  </tbody>\n",
       "</table>\n",
       "</div>"
      ],
      "text/plain": [
       "  user_id page                 date  load_time\n",
       "0  f25239    m  2022-02-03 23:45:37       80.8\n",
       "1  06d6df    m  2022-02-03 23:49:56       70.5\n",
       "2  06d6df    m  2022-02-03 23:51:16       89.7\n",
       "3  f25239    m  2022-02-03 23:51:43       74.4\n",
       "4  697870    m  2022-02-03 23:53:12       66.8"
      ]
     },
     "execution_count": 3,
     "metadata": {},
     "output_type": "execute_result"
    }
   ],
   "source": [
    "df_raw.head()"
   ]
  },
  {
   "cell_type": "code",
   "execution_count": 4,
   "metadata": {},
   "outputs": [],
   "source": [
    "df_raw['date'] = pd.to_datetime(df_raw['date'])\n",
    "df = df_raw[(df_raw['date']>=datetime(2022, 3, 1))&(df_raw['date']<datetime(2022, 3, 8))].copy(deep=True)\n",
    "users = df['user_id'].unique()"
   ]
  },
  {
   "cell_type": "code",
   "execution_count": 5,
   "metadata": {},
   "outputs": [],
   "source": [
    "alpha = 0.05\n",
    "sample_size = 1000\n",
    "effect = 0.01"
   ]
  },
  {
   "cell_type": "code",
   "execution_count": 6,
   "metadata": {},
   "outputs": [],
   "source": [
    "quantiles = {\n",
    "    '1':0.0001, #0.02%\n",
    "    '2':0.001,  #0.2%\n",
    "    '3':0.01,   #2%\n",
    "    '4':0.05,   #10%\n",
    "    '5':0.1     #20%\n",
    "}\n",
    "\n",
    "quantile2errors = {q: [] for q in quantiles.values()}"
   ]
  },
  {
   "cell_type": "code",
   "execution_count": 7,
   "metadata": {},
   "outputs": [],
   "source": [
    "for _ in range(1000):\n",
    "    a_users, b_users = np.random.choice(users, (2, sample_size), False)\n",
    "    a_values = df.loc[df['user_id'].isin(a_users), 'load_time'].values\n",
    "    b_values = df.loc[df['user_id'].isin(b_users), 'load_time'].values * (1 + effect)\n",
    "\n",
    "    for q in quantiles.values():\n",
    "        a_values_filt = a_values[(a_values > np.quantile(a_values, q))&(a_values < np.quantile(a_values, 1 - q))]\n",
    "        b_values_filt = b_values[(b_values > np.quantile(b_values, q))&(b_values < np.quantile(b_values, 1 - q))]\n",
    "\n",
    "        pvalue = ttest_ind(a_values_filt, b_values_filt).pvalue\n",
    "        quantile2errors[q].append(pvalue > alpha)\n"
   ]
  },
  {
   "cell_type": "code",
   "execution_count": 8,
   "metadata": {},
   "outputs": [
    {
     "name": "stdout",
     "output_type": "stream",
     "text": [
      "№ answ = 4, quantile = 0.05, power = 0.959, pvalue = 0.2302, оценка мощности значимо не отличается от предыдущей\n",
      "№ answ = 3, quantile = 0.01, power = 0.937, pvalue = 0.0267, оценка мощности значимо отличается от предыдущей\n",
      "№ answ = 2, quantile = 0.001, power = 0.356, pvalue = 0.0000, оценка мощности значимо отличается от предыдущей\n",
      "№ answ = 1, quantile = 0.0001, power = 0.102, pvalue = 0.0000, оценка мощности значимо отличается от предыдущей\n",
      "answ:  54321\n"
     ]
    }
   ],
   "source": [
    "def process_res(quantile2errors):\n",
    "    '''Обработка результатов, подсчет мощности'''\n",
    "    data = [(idx+1, quantile, np.mean(errors), errors)\n",
    "            for idx, (quantile, errors) in enumerate(quantile2errors.items())]\n",
    "    #сортировка по доле ошибок\n",
    "    data.sort(key=lambda x: x[2])\n",
    "\n",
    "    #проверка, что доля ошибок значимо отличается\n",
    "    for i in range(1, len(data)):\n",
    "        pvalue = ttest_ind(data[i][3], data[i-1][3]).pvalue\n",
    "        if pvalue < 0.05:\n",
    "            msg = f'pvalue = {pvalue:0.04f}, оценка мощности значимо отличается от предыдущей'\n",
    "        else:\n",
    "            msg = f'pvalue = {pvalue:0.04f}, оценка мощности значимо не отличается от предыдущей'\n",
    "        print(f'№ answ = {data[i][0]}, quantile = {data[i][1]}, power = {1-data[i][2]:0.3f}, {msg}')\n",
    "    print('answ: ', ''.join([str(x[0]) for x in data]))\n",
    "\n",
    "process_res(quantile2errors)"
   ]
  },
  {
   "cell_type": "markdown",
   "metadata": {},
   "source": [
    "### Задача 2. Сколько выбросов удалять — 2\n",
    "  \n",
    "\n",
    "Выполните то же задание, изменив способ добавления эффекта. Эффект в синтетических А/В-тестах добавляем добавлением константы к 1% данных.\n",
    "\n",
    "В ответ введите номера вариантов упорядоченные по уменьшению мощности. Например, «12345» означает, что вариант 1 обладает наибольшей мощностью, а вариант 5 — наименьшей.\n",
    "\n",
    "1. Удалить 0.02% выбросов;\n",
    "\n",
    "2. Удалить 0.2% выбросов;\n",
    "\n",
    "3. Удалить 2% выбросов;\n",
    "\n",
    "4. Удалить 10% выбросов;\n",
    "\n",
    "5. Удалить 20% выбросов.\n",
    "\n",
    "Удалить 2% выбросов означает, что нужно убрать по 1% минимальных и максимальных значений выборки. То есть оставить значения, которые лежат между np.quantile(values, 0.01) и np.quantile(values, 0.99). Квантили вычислять для каждой группы отдельно."
   ]
  },
  {
   "cell_type": "code",
   "execution_count": 9,
   "metadata": {},
   "outputs": [],
   "source": [
    "df_raw = pd.read_csv('./2022-04-01T12_df_web_logs.csv')\n",
    "\n",
    "df_raw['date'] = pd.to_datetime(df_raw['date'])\n",
    "df = df_raw[(df_raw['date']>=datetime(2022, 3, 1))&(df_raw['date']<datetime(2022, 3, 8))].copy(deep=True)\n",
    "users = df['user_id'].unique()"
   ]
  },
  {
   "cell_type": "code",
   "execution_count": 10,
   "metadata": {},
   "outputs": [],
   "source": [
    "alpha = 0.05\n",
    "sample_size = 1000\n",
    "effect = 0.01"
   ]
  },
  {
   "cell_type": "code",
   "execution_count": 11,
   "metadata": {},
   "outputs": [],
   "source": [
    "quantiles = {\n",
    "    '1':0.0001, #0.02%\n",
    "    '2':0.001,  #0.2%\n",
    "    '3':0.01,   #2%\n",
    "    '4':0.05,   #10%\n",
    "    '5':0.1     #20%\n",
    "}\n",
    "\n",
    "quantile2errors = {q: [] for q in quantiles.values()}"
   ]
  },
  {
   "cell_type": "code",
   "execution_count": 12,
   "metadata": {},
   "outputs": [],
   "source": [
    "for _ in range(2000):\n",
    "    a_users, b_users = np.random.choice(users, (2, sample_size), False)\n",
    "    a_values = df.loc[df['user_id'].isin(a_users), 'load_time'].values\n",
    "    b_values = df.loc[df['user_id'].isin(b_users), 'load_time'].values.copy()\n",
    "\n",
    "    # Применяем эффект только к 1% случайно выбранных значений\n",
    "    mean_val = b_values.mean()\n",
    "    n = int(0.01 * len(b_values))\n",
    "    idx = np.random.choice(len(b_values), n, replace=False)\n",
    "    add_value = effect * mean_val * len(b_values) / len(idx)\n",
    "    mask = np.zeros(len(b_values))\n",
    "    mask[idx] += 1\n",
    "    b_values = b_values + mask * add_value\n",
    "\n",
    "    for q in quantiles.values():\n",
    "        a_values_filt = a_values[(a_values > np.quantile(a_values, q)) & (a_values < np.quantile(a_values, 1 - q))]\n",
    "        b_values_filt = b_values[(b_values > np.quantile(b_values, q)) & (b_values < np.quantile(b_values, 1 - q))]\n",
    "\n",
    "        pvalue = ttest_ind(a_values_filt, b_values_filt).pvalue\n",
    "        quantile2errors[q].append(pvalue > alpha)\n"
   ]
  },
  {
   "cell_type": "markdown",
   "metadata": {},
   "source": [
    "📌 Задача кода\n",
    "\n",
    "Добавить эффект (effect, например 0.01 или 0.02) только к 1% случайных значений массива b_values, но так, чтобы среднее значение всего массива увеличилось на effect * mean_val (т.е. в среднем на 1% или 2%).\n",
    "\n",
    "🔍 Пошаговый разбор\n",
    "\n",
    "mean_val = b_values.mean()\n",
    "\n",
    "Считаем среднее значение до изменения — это понадобится, чтобы задать изменение в относительных единицах (effect * mean_val).\n",
    "\n",
    "n = int(0.01 * len(b_values))\n",
    "Определяем количество значений, к которым мы хотим добавить эффект — это 1% от длины массива b_values.\n",
    "\n",
    "idx = np.random.choice(len(b_values), n, replace=False)\n",
    "Выбираем n случайных индексов в массиве b_values, без повторений, к которым мы и применим эффект.\n",
    "\n",
    "add_value = effect * mean_val * len(b_values) / len(idx)\n",
    "Вот здесь самая интересная и нетривиальная часть.\n",
    "\n",
    "Цель: добиться среднего прироста по всему массиву b_values равного effect * mean_val, но изменяя только n значений.\n",
    "\n",
    "Поэтому:\n",
    "\n",
    "Сколько должно добавиться всего по массиву? → effect * mean_val * len(b_values)\n",
    "\n",
    "Сколько значений мы изменяем? → len(idx) или n\n",
    "\n",
    "\n",
    "Это значит: добавив add_value к 1% значений, весь массив b_values сдвинется вверх на effect * mean_val в среднем.\n",
    "\n",
    "mask = np.zeros(len(b_values))\n",
    "Создаём массив из нулей той же длины, что и b_values.\n",
    "\n",
    "mask[idx] += 1\n",
    "В тех местах, которые мы выбрали ранее (idx), ставим 1, остальное остаётся 0.\n",
    "\n",
    "Таким образом, mask — это индикатор того, к каким индексам нужно применить add_value.\n",
    "\n",
    "b_values = b_values + mask * add_value\n",
    "Добавляем add_value только тем элементам массива, которые указаны в mask.\n",
    "\n",
    "Элементы с mask = 0 останутся без изменений, а элементы с mask = 1 получат +add_value.\n",
    "\n",
    "💡 Итог\n",
    "\n",
    "Ты:\n",
    "\n",
    "изменяешь только 1% случайных значений,\n",
    "\n",
    "но увеличиваешь среднее значение всего массива b_values на effect * mean_val, что эквивалентно 1% увеличению, если effect = 0.01."
   ]
  },
  {
   "cell_type": "code",
   "execution_count": 13,
   "metadata": {},
   "outputs": [
    {
     "name": "stdout",
     "output_type": "stream",
     "text": [
      "№ answ = 2, quantile = 0.001, power = 0.355, pvalue = 0.0000, оценка мощности значимо отличается от предыдущей\n",
      "№ answ = 5, quantile = 0.1, power = 0.326, pvalue = 0.0572, оценка мощности значимо не отличается от предыдущей\n",
      "№ answ = 4, quantile = 0.05, power = 0.298, pvalue = 0.0606, оценка мощности значимо не отличается от предыдущей\n",
      "№ answ = 1, quantile = 0.0001, power = 0.100, pvalue = 0.0000, оценка мощности значимо отличается от предыдущей\n",
      "answ:  32541\n"
     ]
    }
   ],
   "source": [
    "def process_res(quantile2errors):\n",
    "    '''Обработка результатов, подсчет мощности'''\n",
    "    data = [(idx+1, quantile, np.mean(errors), errors)\n",
    "            for idx, (quantile, errors) in enumerate(quantile2errors.items())]\n",
    "    #сортировка по доле ошибок\n",
    "    data.sort(key=lambda x: x[2])\n",
    "\n",
    "    #проверка, что доля ошибок значимо отличается\n",
    "    for i in range(1, len(data)):\n",
    "        pvalue = ttest_ind(data[i][3], data[i-1][3]).pvalue\n",
    "        if pvalue < 0.05:\n",
    "            msg = f'pvalue = {pvalue:0.04f}, оценка мощности значимо отличается от предыдущей'\n",
    "        else:\n",
    "            msg = f'pvalue = {pvalue:0.04f}, оценка мощности значимо не отличается от предыдущей'\n",
    "        print(f'№ answ = {data[i][0]}, quantile = {data[i][1]}, power = {1-data[i][2]:0.3f}, {msg}')\n",
    "    print('answ: ', ''.join([str(x[0]) for x in data]))\n",
    "\n",
    "process_res(quantile2errors)"
   ]
  },
  {
   "cell_type": "markdown",
   "metadata": {},
   "source": [
    "### Задача 3. Функция удаления выбросов\n",
    "\n",
    "Реализуйте функцию process_outliers.\n",
    "\n",
    "Шаблон решения\n",
    "\n",
    "\n",
    "```python\n",
    "import pandas as pd\n",
    "\n",
    "\n",
    "def process_outliers(metrics, bounds, outlier_process_type):\n",
    "    \"\"\"Возвращает новый датафрейм с обработанными выбросами в измерениях метрики.\n",
    "\n",
    "    :param metrics (pd.DataFrame): таблица со значениями метрики\n",
    "        со столбцами ['user_id', 'metric'].\n",
    "    :param bounds (tuple[float, float]): нижняя и верхняя границы метрики. Всё что\n",
    "        не попало между ними считаем выбросами.\n",
    "    :param outlier_process_type (str): способ обработки выбросов. Возможные варианты:\n",
    "        'drop' - удаляем измерение,\n",
    "        'clip' - заменяем выброс на значение ближайшей границы (lower_bound, upper_bound).\n",
    "    :return df: таблица со столбцами ['user_id', 'metric']\n",
    "    \"\"\"\n",
    "        # YOUR_CODE_HERE\n",
    "\n",
    "```\n",
    "\n",
    "Пример\n",
    "\n",
    "```python\n",
    "metrics = pd.DataFrame({'user_id': [1, 2, 3], 'metric': [1., 2, 3]})\n",
    "bounds = (0.1, 2.2,)\n",
    "outlier_process_type = 'drop'\n",
    "result = process_outliers(metrics, bounds, outlier_process_type)\n",
    "# result = pd.DataFrame({'user_id': [1, 2], 'metric': [1.0, 2.0]})\n",
    "\n",
    "outlier_process_type = 'clip'\n",
    "result = process_outliers(metrics, bounds, outlier_process_type)\n",
    "# result = pd.DataFrame({'user_id': [1, 2, 3], 'metric': [1.0, 2.0, 2.2]})\n",
    "\n",
    "\n"
   ]
  },
  {
   "cell_type": "code",
   "execution_count": 27,
   "metadata": {},
   "outputs": [],
   "source": [
    "import pandas as pd\n",
    "\n",
    "\n",
    "def process_outliers(metrics, bounds, outlier_process_type):\n",
    "    \"\"\"Возвращает новый датафрейм с обработанными выбросами в измерениях метрики.\n",
    "\n",
    "    :param metrics (pd.DataFrame): таблица со значениями метрики\n",
    "        со столбцами ['user_id', 'metric'].\n",
    "    :param bounds (tuple[float, float]): нижняя и верхняя границы метрики. Всё что\n",
    "        не попало между ними считаем выбросами.\n",
    "    :param outlier_process_type (str): способ обработки выбросов. Возможные варианты:\n",
    "        'drop' - удаляем измерение,\n",
    "        'clip' - заменяем выброс на значение ближайшей границы (lower_bound, upper_bound).\n",
    "    :return df: таблица со столбцами ['user_id', 'metric']\n",
    "    \"\"\"\n",
    "    lower_bound = bounds[0]\n",
    "    upper_bound = bounds[1]\n",
    "\n",
    "    if outlier_process_type == 'drop':\n",
    "        metrics = metrics.loc[(metrics['metric'] >= lower_bound)&(metrics['metric'] <= upper_bound)]\n",
    "    elif outlier_process_type == 'clip':\n",
    "        metrics.loc[(metrics['metric'] >= upper_bound), 'metric'] = upper_bound\n",
    "        metrics.loc[(metrics['metric'] <= lower_bound), 'metric'] = lower_bound\n",
    "    else:\n",
    "        raise ValueError('Неверное значение outlier_process_type')\n",
    "    return metrics\n"
   ]
  },
  {
   "cell_type": "code",
   "execution_count": 28,
   "metadata": {},
   "outputs": [
    {
     "name": "stdout",
     "output_type": "stream",
     "text": [
      "   user_id  metric\n",
      "0        1     1.0\n",
      "1        2     2.0\n"
     ]
    }
   ],
   "source": [
    "#тест работы функции\n",
    "metrics = pd.DataFrame({'user_id': [1, 2, 3], 'metric': [1., 2, 3]})\n",
    "bounds = (0.1, 2.2,)\n",
    "outlier_process_type = 'drop'\n",
    "result = process_outliers(metrics, bounds, outlier_process_type)\n",
    "print(result)\n",
    "# result = pd.DataFrame({'user_id': [1, 2], 'metric': [1.0, 2.0]})"
   ]
  },
  {
   "cell_type": "code",
   "execution_count": 29,
   "metadata": {},
   "outputs": [
    {
     "name": "stdout",
     "output_type": "stream",
     "text": [
      "   user_id  metric\n",
      "0        1     1.0\n",
      "1        2     2.0\n",
      "2        3     2.2\n"
     ]
    }
   ],
   "source": [
    "outlier_process_type = 'clip'\n",
    "result = process_outliers(metrics, bounds, outlier_process_type)\n",
    "print(result)\n",
    "# result = pd.DataFrame({'user_id': [1, 2, 3], 'metric': [1.0, 2.0, 2.2]})"
   ]
  },
  {
   "cell_type": "code",
   "execution_count": null,
   "metadata": {},
   "outputs": [],
   "source": []
  }
 ],
 "metadata": {
  "kernelspec": {
   "display_name": "eda",
   "language": "python",
   "name": "python3"
  },
  "language_info": {
   "codemirror_mode": {
    "name": "ipython",
    "version": 3
   },
   "file_extension": ".py",
   "mimetype": "text/x-python",
   "name": "python",
   "nbconvert_exporter": "python",
   "pygments_lexer": "ipython3",
   "version": "3.9.19"
  }
 },
 "nbformat": 4,
 "nbformat_minor": 2
}
